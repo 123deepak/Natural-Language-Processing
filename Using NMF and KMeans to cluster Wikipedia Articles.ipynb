{
 "cells": [
  {
   "cell_type": "code",
   "execution_count": 283,
   "metadata": {},
   "outputs": [],
   "source": [
    "import pandas as pd\n",
    "from nltk.corpus import stopwords\n",
    "from sklearn.feature_extraction.text import TfidfVectorizer\n",
    "from textblob import Word\n",
    "from sklearn.decomposition import NMF\n",
    "from sklearn.cluster import KMeans"
   ]
  },
  {
   "cell_type": "code",
   "execution_count": 284,
   "metadata": {},
   "outputs": [
    {
     "data": {
      "text/plain": [
       "15"
      ]
     },
     "execution_count": 284,
     "metadata": {},
     "output_type": "execute_result"
    }
   ],
   "source": [
    "with open('C:\\\\Users\\\\Deepak\\\\Downloads\\\\WikiArticles.txt') as f:\n",
    "    articles = list(f)\n",
    "len(articles)"
   ]
  },
  {
   "cell_type": "code",
   "execution_count": 285,
   "metadata": {},
   "outputs": [
    {
     "data": {
      "text/html": [
       "<div>\n",
       "<style scoped>\n",
       "    .dataframe tbody tr th:only-of-type {\n",
       "        vertical-align: middle;\n",
       "    }\n",
       "\n",
       "    .dataframe tbody tr th {\n",
       "        vertical-align: top;\n",
       "    }\n",
       "\n",
       "    .dataframe thead th {\n",
       "        text-align: right;\n",
       "    }\n",
       "</style>\n",
       "<table border=\"1\" class=\"dataframe\">\n",
       "  <thead>\n",
       "    <tr style=\"text-align: right;\">\n",
       "      <th></th>\n",
       "      <th>Desc</th>\n",
       "    </tr>\n",
       "  </thead>\n",
       "  <tbody>\n",
       "    <tr>\n",
       "      <th>0</th>\n",
       "      <td>Education is the process of is am are facilita...</td>\n",
       "    </tr>\n",
       "    <tr>\n",
       "      <th>1</th>\n",
       "      <td>Sachin Ramesh Tendulkar (/?s?t??n t?n?du?lk?r/...</td>\n",
       "    </tr>\n",
       "    <tr>\n",
       "      <th>2</th>\n",
       "      <td>Information technology (IT) is the use of comp...</td>\n",
       "    </tr>\n",
       "    <tr>\n",
       "      <th>3</th>\n",
       "      <td>The Graduate Aptitude Test in Engineering (GAT...</td>\n",
       "    </tr>\n",
       "    <tr>\n",
       "      <th>4</th>\n",
       "      <td>The Ranji Trophy is a domestic first-class cri...</td>\n",
       "    </tr>\n",
       "    <tr>\n",
       "      <th>5</th>\n",
       "      <td>Gravity (from Latin gravitas, meaning 'weight'...</td>\n",
       "    </tr>\n",
       "    <tr>\n",
       "      <th>6</th>\n",
       "      <td>A school is an institution designed to provide...</td>\n",
       "    </tr>\n",
       "    <tr>\n",
       "      <th>7</th>\n",
       "      <td>A computer is a device that can be instructed ...</td>\n",
       "    </tr>\n",
       "    <tr>\n",
       "      <th>8</th>\n",
       "      <td>Physics (from Ancient Greek: ?????? (????????)...</td>\n",
       "    </tr>\n",
       "    <tr>\n",
       "      <th>9</th>\n",
       "      <td>Sir Isaac Newton FRS PRS (25 December 1642 – 2...</td>\n",
       "    </tr>\n",
       "    <tr>\n",
       "      <th>10</th>\n",
       "      <td>A student is primarily a person enrolled in a ...</td>\n",
       "    </tr>\n",
       "    <tr>\n",
       "      <th>11</th>\n",
       "      <td>The Wankhede Stadium (Marathi: ??????? ???????...</td>\n",
       "    </tr>\n",
       "    <tr>\n",
       "      <th>12</th>\n",
       "      <td>Mahendra Singh Dhoni (About this soundpronunci...</td>\n",
       "    </tr>\n",
       "    <tr>\n",
       "      <th>13</th>\n",
       "      <td>Albert Einstein (/'a?nsta?n/;[4] German: ['alb...</td>\n",
       "    </tr>\n",
       "    <tr>\n",
       "      <th>14</th>\n",
       "      <td>International Business Machines Corporation (I...</td>\n",
       "    </tr>\n",
       "  </tbody>\n",
       "</table>\n",
       "</div>"
      ],
      "text/plain": [
       "                                                 Desc\n",
       "0   Education is the process of is am are facilita...\n",
       "1   Sachin Ramesh Tendulkar (/?s?t??n t?n?du?lk?r/...\n",
       "2   Information technology (IT) is the use of comp...\n",
       "3   The Graduate Aptitude Test in Engineering (GAT...\n",
       "4   The Ranji Trophy is a domestic first-class cri...\n",
       "5   Gravity (from Latin gravitas, meaning 'weight'...\n",
       "6   A school is an institution designed to provide...\n",
       "7   A computer is a device that can be instructed ...\n",
       "8   Physics (from Ancient Greek: ?????? (????????)...\n",
       "9   Sir Isaac Newton FRS PRS (25 December 1642 – 2...\n",
       "10  A student is primarily a person enrolled in a ...\n",
       "11  The Wankhede Stadium (Marathi: ??????? ???????...\n",
       "12  Mahendra Singh Dhoni (About this soundpronunci...\n",
       "13  Albert Einstein (/'a?nsta?n/;[4] German: ['alb...\n",
       "14  International Business Machines Corporation (I..."
      ]
     },
     "execution_count": 285,
     "metadata": {},
     "output_type": "execute_result"
    }
   ],
   "source": [
    "WikiDesc = pd.DataFrame({'Desc': articles})\n",
    "WikiDesc"
   ]
  },
  {
   "cell_type": "code",
   "execution_count": 286,
   "metadata": {},
   "outputs": [
    {
     "data": {
      "text/plain": [
       "15"
      ]
     },
     "execution_count": 286,
     "metadata": {},
     "output_type": "execute_result"
    }
   ],
   "source": [
    "with open('C:\\\\Users\\\\Deepak\\\\Downloads\\\\Labels.txt') as f:\n",
    "    labels = list(f)\n",
    "len(labels)"
   ]
  },
  {
   "cell_type": "code",
   "execution_count": 287,
   "metadata": {},
   "outputs": [
    {
     "data": {
      "text/html": [
       "<div>\n",
       "<style scoped>\n",
       "    .dataframe tbody tr th:only-of-type {\n",
       "        vertical-align: middle;\n",
       "    }\n",
       "\n",
       "    .dataframe tbody tr th {\n",
       "        vertical-align: top;\n",
       "    }\n",
       "\n",
       "    .dataframe thead th {\n",
       "        text-align: right;\n",
       "    }\n",
       "</style>\n",
       "<table border=\"1\" class=\"dataframe\">\n",
       "  <thead>\n",
       "    <tr style=\"text-align: right;\">\n",
       "      <th></th>\n",
       "      <th>labels</th>\n",
       "    </tr>\n",
       "  </thead>\n",
       "  <tbody>\n",
       "    <tr>\n",
       "      <th>0</th>\n",
       "      <td>Education\\n</td>\n",
       "    </tr>\n",
       "    <tr>\n",
       "      <th>1</th>\n",
       "      <td>Sachin Tendulkar\\n</td>\n",
       "    </tr>\n",
       "    <tr>\n",
       "      <th>2</th>\n",
       "      <td>Information Technology\\n</td>\n",
       "    </tr>\n",
       "    <tr>\n",
       "      <th>3</th>\n",
       "      <td>GATE\\n</td>\n",
       "    </tr>\n",
       "    <tr>\n",
       "      <th>4</th>\n",
       "      <td>Ranji Trophy\\n</td>\n",
       "    </tr>\n",
       "  </tbody>\n",
       "</table>\n",
       "</div>"
      ],
      "text/plain": [
       "                     labels\n",
       "0               Education\\n\n",
       "1        Sachin Tendulkar\\n\n",
       "2  Information Technology\\n\n",
       "3                    GATE\\n\n",
       "4            Ranji Trophy\\n"
      ]
     },
     "execution_count": 287,
     "metadata": {},
     "output_type": "execute_result"
    }
   ],
   "source": [
    "WikiLabels = pd.DataFrame({'labels': labels})\n",
    "WikiLabels.head()"
   ]
  },
  {
   "cell_type": "code",
   "execution_count": 288,
   "metadata": {},
   "outputs": [
    {
     "data": {
      "text/plain": [
       "0                  Education\n",
       "1           Sachin Tendulkar\n",
       "2     Information Technology\n",
       "3                       GATE\n",
       "4               Ranji Trophy\n",
       "5                    Gravity\n",
       "6                     School\n",
       "7                   Computer\n",
       "8                    Physics\n",
       "9                     Newton\n",
       "10                   Student\n",
       "11          Wankhede Stadium\n",
       "12                     Dhoni\n",
       "13           Albert Einstein\n",
       "14                       IBM\n",
       "Name: labels, dtype: object"
      ]
     },
     "execution_count": 288,
     "metadata": {},
     "output_type": "execute_result"
    }
   ],
   "source": [
    "WikiLabels['labels'] = WikiLabels['labels'].replace('\\n','', regex=True)\n",
    "WikiLabels['labels']"
   ]
  },
  {
   "cell_type": "markdown",
   "metadata": {},
   "source": [
    "### Removing punctuations and stop words"
   ]
  },
  {
   "cell_type": "code",
   "execution_count": 289,
   "metadata": {
    "collapsed": true
   },
   "outputs": [],
   "source": [
    "stop = stopwords.words('English')"
   ]
  },
  {
   "cell_type": "code",
   "execution_count": 290,
   "metadata": {
    "collapsed": true
   },
   "outputs": [],
   "source": [
    "WikiDesc['Desc_Transformed'] = WikiDesc['Desc'].apply(lambda x: \" \".join(x.lower() for x in x.split()))  # Lowering the text\n",
    "WikiDesc['Desc_Transformed'] = WikiDesc['Desc_Transformed'].str.replace('[^\\w\\s]','')  # Special characters"
   ]
  },
  {
   "cell_type": "code",
   "execution_count": 291,
   "metadata": {
    "collapsed": true
   },
   "outputs": [],
   "source": [
    "WikiDesc['Desc_Transformed'] = WikiDesc['Desc_Transformed'].apply(lambda x: \" \".join(x for x in x.split() if x not in stop)) # Stop words removal\n",
    "WikiDesc['Desc_Transformed'] = WikiDesc['Desc_Transformed'].str.replace(r'\\d+', ' ')  # Digits removal\n",
    "WikiDesc['Desc_Transformed'] = WikiDesc['Desc_Transformed'].str.replace(r'\\s+', ' ')  # Extra space removal"
   ]
  },
  {
   "cell_type": "code",
   "execution_count": 292,
   "metadata": {},
   "outputs": [
    {
     "data": {
      "text/plain": [
       "cricket          17\n",
       "education        13\n",
       "one              12\n",
       "also             12\n",
       "international    10\n",
       "indian           10\n",
       "physics          10\n",
       "theory           10\n",
       "gravity          10\n",
       "india             8\n",
       "technology        7\n",
       "relativity        7\n",
       "information       7\n",
       "school            6\n",
       "known             6\n",
       "stadium           6\n",
       "gate              6\n",
       "time              6\n",
       "computers         6\n",
       "natural           6\n",
       "mechanics         6\n",
       "general           5\n",
       "higher            5\n",
       "systems           5\n",
       "university        5\n",
       "ibm               5\n",
       "motion            5\n",
       "research          5\n",
       "business          5\n",
       "first             5\n",
       "dtype: int64"
      ]
     },
     "execution_count": 292,
     "metadata": {},
     "output_type": "execute_result"
    }
   ],
   "source": [
    "freq = pd.Series(' '.join(WikiDesc['Desc_Transformed']).split()).value_counts()[:30]\n",
    "freq"
   ]
  },
  {
   "cell_type": "code",
   "execution_count": 293,
   "metadata": {
    "collapsed": true
   },
   "outputs": [],
   "source": [
    "To_remove = ['one', 'also', 'known', 'general']\n",
    "WikiDesc['Desc_Transformed'] = WikiDesc['Desc_Transformed'].apply(lambda x: \" \".join(x for x in x.split() if x not in To_remove))"
   ]
  },
  {
   "cell_type": "markdown",
   "metadata": {},
   "source": [
    "### Lemmatization"
   ]
  },
  {
   "cell_type": "code",
   "execution_count": 294,
   "metadata": {
    "collapsed": true
   },
   "outputs": [],
   "source": [
    "WikiDesc['Desc_Transformed'] = WikiDesc['Desc_Transformed'].apply(lambda x: \" \".join([Word(word).lemmatize() for word in x.split()]))"
   ]
  },
  {
   "cell_type": "code",
   "execution_count": 295,
   "metadata": {},
   "outputs": [
    {
     "data": {
      "text/plain": [
       "'Sachin Ramesh Tendulkar (/?s?t??n t?n?du?lk?r/ (About this soundlisten); born 24 April 1973) is a former Indian international cricketer and a former captain of the Indian national team, regarded as the greatest batsman of all time.[4] He is the highest run scorer of all time in International cricket. Tendulkar took up cricket at the age of eleven, made his Test debut on 15 November 1989 against Pakistan in Karachi at the age of sixteen, and went on to represent Mumbai domestically and India internationally for close to twenty-four years. He is the only player to have scored one hundred international centuries, the first batsman to score a double century in a ODI, the holder of the record for the most number of runs in both Test and ODI, and the only player to complete more than 30,000 runs in international cricket.[5] He is colloquially known as Little Master or Master Blaster,[6][7][8][9] and often referred to as the God of Cricket by Indian cricket followers.[10][11] Despite his reputation, he is known for his modesty and humility, once stating \"I am not the God of cricket. I make mistakes, God doesn’t\".\\n'"
      ]
     },
     "execution_count": 295,
     "metadata": {},
     "output_type": "execute_result"
    }
   ],
   "source": [
    "WikiDesc['Desc'][1]"
   ]
  },
  {
   "cell_type": "code",
   "execution_count": 296,
   "metadata": {},
   "outputs": [
    {
     "data": {
      "text/plain": [
       "'sachin ramesh tendulkar stn tndulkr soundlisten born april former indian international cricketer former captain indian national team regarded greatest batsman time highest run scorer time international cricket tendulkar took cricket age eleven made test debut november pakistan karachi age sixteen went represent mumbai domestically india internationally close twentyfour year player scored hundred international century first batsman score double century odi holder record number run test odi player complete run international cricket colloquially little master master blaster often referred god cricket indian cricket follower despite reputation modesty humility stating god cricket make mistake god doesnt'"
      ]
     },
     "execution_count": 296,
     "metadata": {},
     "output_type": "execute_result"
    }
   ],
   "source": [
    "WikiDesc['Desc_Transformed'][1]"
   ]
  },
  {
   "cell_type": "code",
   "execution_count": 297,
   "metadata": {},
   "outputs": [
    {
     "data": {
      "text/plain": [
       "'International Business Machines Corporation (IBM) is an American multinational information technology company headquartered in Armonk, New York, with operations in over 170 countries. The company began in 1911 as the Computing-Tabulating-Recording Company (CTR) and was renamed \"International Business Machines\" in 1924. IBM produces and sells computer hardware, middleware and software, and provides hosting and consulting services in areas ranging from mainframe computers to nanotechnology. IBM is also a major research organization, holding the record for most U.S. patents generated by a business (as of 2018) for 25 consecutive years.[5] Inventions by IBM include the automated teller machine (ATM), the floppy disk, the hard disk drive, the magnetic stripe card, the relational database, the SQL programming language, the UPC barcode, and dynamic random-access memory (DRAM). The IBM mainframe, exemplified by the System/360, was the dominant computing platform during the 1960s and 1970s.\\n'"
      ]
     },
     "execution_count": 297,
     "metadata": {},
     "output_type": "execute_result"
    }
   ],
   "source": [
    "WikiDesc['Desc'][14]"
   ]
  },
  {
   "cell_type": "code",
   "execution_count": 298,
   "metadata": {},
   "outputs": [
    {
     "data": {
      "text/plain": [
       "'international business machine corporation ibm american multinational information technology company headquartered armonk new york operation country company began computingtabulatingrecording company ctr renamed international business machine ibm produce sell computer hardware middleware software provides hosting consulting service area ranging mainframe computer nanotechnology ibm major research organization holding record u patent generated business consecutive year invention ibm include automated teller machine atm floppy disk hard disk drive magnetic stripe card relational database sql programming language upc barcode dynamic randomaccess memory dram ibm mainframe exemplified system dominant computing platform s s'"
      ]
     },
     "execution_count": 298,
     "metadata": {},
     "output_type": "execute_result"
    }
   ],
   "source": [
    "WikiDesc['Desc_Transformed'][14]"
   ]
  },
  {
   "cell_type": "code",
   "execution_count": 299,
   "metadata": {},
   "outputs": [
    {
     "name": "stdout",
     "output_type": "stream",
     "text": [
      "(15, 762)\n"
     ]
    },
    {
     "data": {
      "text/plain": [
       "<15x762 sparse matrix of type '<class 'numpy.float64'>'\n",
       "\twith 985 stored elements in Compressed Sparse Row format>"
      ]
     },
     "execution_count": 299,
     "metadata": {},
     "output_type": "execute_result"
    }
   ],
   "source": [
    "tfidf_vec = TfidfVectorizer()\n",
    "test_tfidf = tfidf_vec.fit_transform(WikiDesc['Desc_Transformed']) \n",
    "print(test_tfidf.shape)\n",
    "test_tfidf"
   ]
  },
  {
   "cell_type": "code",
   "execution_count": 300,
   "metadata": {},
   "outputs": [
    {
     "name": "stdout",
     "output_type": "stream",
     "text": [
      "762\n"
     ]
    },
    {
     "data": {
      "text/plain": [
       "['ability',\n",
       " 'academic',\n",
       " 'account',\n",
       " 'accounted',\n",
       " 'accurately',\n",
       " 'acquisition',\n",
       " 'act',\n",
       " 'activity',\n",
       " 'additionally',\n",
       " 'admission']"
      ]
     },
     "execution_count": 300,
     "metadata": {},
     "output_type": "execute_result"
    }
   ],
   "source": [
    "words = tfidf_vec.get_feature_names()\n",
    "print(len(words))\n",
    "words[0:10]"
   ]
  },
  {
   "cell_type": "code",
   "execution_count": 301,
   "metadata": {
    "collapsed": true
   },
   "outputs": [],
   "source": [
    "# Non-Negative Matrix Factorization\n",
    "model = NMF(n_components = 4)  # Clusters will be four, which means we will have only 4 components to describe complete data.\n",
    "model.fit(test_tfidf)\n",
    "nmf_features = model.transform(test_tfidf)"
   ]
  },
  {
   "cell_type": "code",
   "execution_count": 302,
   "metadata": {},
   "outputs": [
    {
     "name": "stdout",
     "output_type": "stream",
     "text": [
      "(15,)\n",
      "(15, 762)\n",
      "(15, 4)\n",
      "(4, 762)\n"
     ]
    }
   ],
   "source": [
    "print(WikiDesc['Desc_Transformed'].shape)\n",
    "print(test_tfidf.shape)  # Now this is our new array of 15 samples having 762 features, and this need to be dimensionally reduced\n",
    "print(nmf_features.shape)  # which is done by NMF\n",
    "print(model.components_.shape)  # We have now 4 components and 762 features"
   ]
  },
  {
   "cell_type": "code",
   "execution_count": 303,
   "metadata": {},
   "outputs": [
    {
     "data": {
      "text/html": [
       "<div>\n",
       "<style scoped>\n",
       "    .dataframe tbody tr th:only-of-type {\n",
       "        vertical-align: middle;\n",
       "    }\n",
       "\n",
       "    .dataframe tbody tr th {\n",
       "        vertical-align: top;\n",
       "    }\n",
       "\n",
       "    .dataframe thead th {\n",
       "        text-align: right;\n",
       "    }\n",
       "</style>\n",
       "<table border=\"1\" class=\"dataframe\">\n",
       "  <thead>\n",
       "    <tr style=\"text-align: right;\">\n",
       "      <th></th>\n",
       "      <th>0</th>\n",
       "      <th>1</th>\n",
       "      <th>2</th>\n",
       "      <th>3</th>\n",
       "    </tr>\n",
       "    <tr>\n",
       "      <th>labels</th>\n",
       "      <th></th>\n",
       "      <th></th>\n",
       "      <th></th>\n",
       "      <th></th>\n",
       "    </tr>\n",
       "  </thead>\n",
       "  <tbody>\n",
       "    <tr>\n",
       "      <th>Education</th>\n",
       "      <td>0.000000</td>\n",
       "      <td>0.697134</td>\n",
       "      <td>0.000000</td>\n",
       "      <td>0.000000</td>\n",
       "    </tr>\n",
       "    <tr>\n",
       "      <th>Sachin Tendulkar</th>\n",
       "      <td>0.543518</td>\n",
       "      <td>0.000000</td>\n",
       "      <td>0.000000</td>\n",
       "      <td>0.002309</td>\n",
       "    </tr>\n",
       "    <tr>\n",
       "      <th>Information Technology</th>\n",
       "      <td>0.000000</td>\n",
       "      <td>0.000000</td>\n",
       "      <td>0.004336</td>\n",
       "      <td>0.671488</td>\n",
       "    </tr>\n",
       "    <tr>\n",
       "      <th>GATE</th>\n",
       "      <td>0.132291</td>\n",
       "      <td>0.268194</td>\n",
       "      <td>0.009429</td>\n",
       "      <td>0.106107</td>\n",
       "    </tr>\n",
       "    <tr>\n",
       "      <th>Ranji Trophy</th>\n",
       "      <td>0.406181</td>\n",
       "      <td>0.000000</td>\n",
       "      <td>0.000000</td>\n",
       "      <td>0.000000</td>\n",
       "    </tr>\n",
       "    <tr>\n",
       "      <th>Gravity</th>\n",
       "      <td>0.000000</td>\n",
       "      <td>0.000000</td>\n",
       "      <td>0.464894</td>\n",
       "      <td>0.000000</td>\n",
       "    </tr>\n",
       "    <tr>\n",
       "      <th>School</th>\n",
       "      <td>0.000000</td>\n",
       "      <td>0.784458</td>\n",
       "      <td>0.000000</td>\n",
       "      <td>0.000000</td>\n",
       "    </tr>\n",
       "    <tr>\n",
       "      <th>Computer</th>\n",
       "      <td>0.000000</td>\n",
       "      <td>0.000000</td>\n",
       "      <td>0.000000</td>\n",
       "      <td>0.542660</td>\n",
       "    </tr>\n",
       "    <tr>\n",
       "      <th>Physics</th>\n",
       "      <td>0.000000</td>\n",
       "      <td>0.025788</td>\n",
       "      <td>0.441423</td>\n",
       "      <td>0.010966</td>\n",
       "    </tr>\n",
       "    <tr>\n",
       "      <th>Newton</th>\n",
       "      <td>0.006363</td>\n",
       "      <td>0.000000</td>\n",
       "      <td>0.603913</td>\n",
       "      <td>0.004468</td>\n",
       "    </tr>\n",
       "    <tr>\n",
       "      <th>Student</th>\n",
       "      <td>0.000000</td>\n",
       "      <td>0.531970</td>\n",
       "      <td>0.000000</td>\n",
       "      <td>0.000000</td>\n",
       "    </tr>\n",
       "    <tr>\n",
       "      <th>Wankhede Stadium</th>\n",
       "      <td>0.437957</td>\n",
       "      <td>0.000000</td>\n",
       "      <td>0.000000</td>\n",
       "      <td>0.000000</td>\n",
       "    </tr>\n",
       "    <tr>\n",
       "      <th>Dhoni</th>\n",
       "      <td>0.550474</td>\n",
       "      <td>0.000000</td>\n",
       "      <td>0.006553</td>\n",
       "      <td>0.000000</td>\n",
       "    </tr>\n",
       "    <tr>\n",
       "      <th>Albert Einstein</th>\n",
       "      <td>0.000000</td>\n",
       "      <td>0.000000</td>\n",
       "      <td>0.634361</td>\n",
       "      <td>0.000000</td>\n",
       "    </tr>\n",
       "    <tr>\n",
       "      <th>IBM</th>\n",
       "      <td>0.006754</td>\n",
       "      <td>0.000000</td>\n",
       "      <td>0.000000</td>\n",
       "      <td>0.664939</td>\n",
       "    </tr>\n",
       "  </tbody>\n",
       "</table>\n",
       "</div>"
      ],
      "text/plain": [
       "                               0         1         2         3\n",
       "labels                                                        \n",
       "Education               0.000000  0.697134  0.000000  0.000000\n",
       "Sachin Tendulkar        0.543518  0.000000  0.000000  0.002309\n",
       "Information Technology  0.000000  0.000000  0.004336  0.671488\n",
       "GATE                    0.132291  0.268194  0.009429  0.106107\n",
       "Ranji Trophy            0.406181  0.000000  0.000000  0.000000\n",
       "Gravity                 0.000000  0.000000  0.464894  0.000000\n",
       "School                  0.000000  0.784458  0.000000  0.000000\n",
       "Computer                0.000000  0.000000  0.000000  0.542660\n",
       "Physics                 0.000000  0.025788  0.441423  0.010966\n",
       "Newton                  0.006363  0.000000  0.603913  0.004468\n",
       "Student                 0.000000  0.531970  0.000000  0.000000\n",
       "Wankhede Stadium        0.437957  0.000000  0.000000  0.000000\n",
       "Dhoni                   0.550474  0.000000  0.006553  0.000000\n",
       "Albert Einstein         0.000000  0.000000  0.634361  0.000000\n",
       "IBM                     0.006754  0.000000  0.000000  0.664939"
      ]
     },
     "execution_count": 303,
     "metadata": {},
     "output_type": "execute_result"
    }
   ],
   "source": [
    "# By plotting these nmf_features, we can draw some patters\n",
    "# Below we can see 4 components:\n",
    "# Analysis is done is this fashion:\n",
    "# Out of 762 features, it analyzed that 'cricket', 'international', 'indian', 'team', 'test' are matching in records 'Dhoni', 'Sachin' etc.\n",
    "# Therefore, it created on component of above set ['cricket', 'team' . .] and created another component of set ['student', 'institution'. . .]\n",
    "df = pd.DataFrame(nmf_features, index = WikiLabels['labels'])\n",
    "df\n",
    "# Now while plotting it found that Document 'Sachin' is having those words which are in Component 0, and it gave some score"
   ]
  },
  {
   "cell_type": "code",
   "execution_count": 304,
   "metadata": {},
   "outputs": [
    {
     "name": "stdout",
     "output_type": "stream",
     "text": [
      "[0.5435177409054822, 0.0, 0.0, 0.0023092218122147874]\n",
      "[0.5504743278144836, 0.0, 0.006552739755561959, 0.0]\n"
     ]
    }
   ],
   "source": [
    "print(list(df.loc['Sachin Tendulkar']))\n",
    "print(list(df.loc['Dhoni']))"
   ]
  },
  {
   "cell_type": "code",
   "execution_count": 305,
   "metadata": {
    "collapsed": true
   },
   "outputs": [],
   "source": [
    "# First column is having the largest values and on the basis of which clustering will be done."
   ]
  },
  {
   "cell_type": "code",
   "execution_count": 306,
   "metadata": {},
   "outputs": [
    {
     "name": "stdout",
     "output_type": "stream",
     "text": [
      "[0.0, 0.02578798377097337, 0.4414228183155255, 0.010966310492415764]\n",
      "[0.006362700159756607, 0.0, 0.6039130579603365, 0.004468111529097032]\n",
      "[0.0, 0.0, 0.46489429126541293, 0.0]\n",
      "[0.0, 0.0, 0.6343605979311828, 0.0]\n"
     ]
    }
   ],
   "source": [
    "print(list(df.loc['Physics']))\n",
    "print(list(df.loc['Newton']))\n",
    "print(list(df.loc['Gravity']))\n",
    "print(list(df.loc['Albert Einstein']))"
   ]
  },
  {
   "cell_type": "code",
   "execution_count": 307,
   "metadata": {
    "collapsed": true
   },
   "outputs": [],
   "source": [
    "# Third column is having the largest values and on the basis of which clustering will be done."
   ]
  },
  {
   "cell_type": "code",
   "execution_count": 308,
   "metadata": {},
   "outputs": [
    {
     "data": {
      "text/html": [
       "<div>\n",
       "<style scoped>\n",
       "    .dataframe tbody tr th:only-of-type {\n",
       "        vertical-align: middle;\n",
       "    }\n",
       "\n",
       "    .dataframe tbody tr th {\n",
       "        vertical-align: top;\n",
       "    }\n",
       "\n",
       "    .dataframe thead th {\n",
       "        text-align: right;\n",
       "    }\n",
       "</style>\n",
       "<table border=\"1\" class=\"dataframe\">\n",
       "  <thead>\n",
       "    <tr style=\"text-align: right;\">\n",
       "      <th></th>\n",
       "      <th>0</th>\n",
       "      <th>1</th>\n",
       "      <th>2</th>\n",
       "      <th>3</th>\n",
       "      <th>4</th>\n",
       "      <th>5</th>\n",
       "      <th>6</th>\n",
       "      <th>7</th>\n",
       "      <th>8</th>\n",
       "      <th>9</th>\n",
       "      <th>...</th>\n",
       "      <th>752</th>\n",
       "      <th>753</th>\n",
       "      <th>754</th>\n",
       "      <th>755</th>\n",
       "      <th>756</th>\n",
       "      <th>757</th>\n",
       "      <th>758</th>\n",
       "      <th>759</th>\n",
       "      <th>760</th>\n",
       "      <th>761</th>\n",
       "    </tr>\n",
       "  </thead>\n",
       "  <tbody>\n",
       "    <tr>\n",
       "      <th>0</th>\n",
       "      <td>0.000000</td>\n",
       "      <td>0.000000</td>\n",
       "      <td>0.000167</td>\n",
       "      <td>0.000167</td>\n",
       "      <td>0.000000</td>\n",
       "      <td>0.00000</td>\n",
       "      <td>0.00000</td>\n",
       "      <td>0.000000</td>\n",
       "      <td>0.043785</td>\n",
       "      <td>0.009480</td>\n",
       "      <td>...</td>\n",
       "      <td>0.070171</td>\n",
       "      <td>0.000167</td>\n",
       "      <td>0.043785</td>\n",
       "      <td>0.000000</td>\n",
       "      <td>0.164007</td>\n",
       "      <td>0.000000</td>\n",
       "      <td>0.100863</td>\n",
       "      <td>0.000000</td>\n",
       "      <td>0.000000</td>\n",
       "      <td>0.000000</td>\n",
       "    </tr>\n",
       "    <tr>\n",
       "      <th>1</th>\n",
       "      <td>0.000000</td>\n",
       "      <td>0.002313</td>\n",
       "      <td>0.000000</td>\n",
       "      <td>0.000000</td>\n",
       "      <td>0.000000</td>\n",
       "      <td>0.04943</td>\n",
       "      <td>0.04943</td>\n",
       "      <td>0.038615</td>\n",
       "      <td>0.000000</td>\n",
       "      <td>0.013302</td>\n",
       "      <td>...</td>\n",
       "      <td>0.000000</td>\n",
       "      <td>0.000000</td>\n",
       "      <td>0.000000</td>\n",
       "      <td>0.000000</td>\n",
       "      <td>0.000000</td>\n",
       "      <td>0.000000</td>\n",
       "      <td>0.000000</td>\n",
       "      <td>0.000000</td>\n",
       "      <td>0.000000</td>\n",
       "      <td>0.060752</td>\n",
       "    </tr>\n",
       "    <tr>\n",
       "      <th>2</th>\n",
       "      <td>0.000000</td>\n",
       "      <td>0.061764</td>\n",
       "      <td>0.043809</td>\n",
       "      <td>0.043809</td>\n",
       "      <td>0.027345</td>\n",
       "      <td>0.00000</td>\n",
       "      <td>0.00000</td>\n",
       "      <td>0.000000</td>\n",
       "      <td>0.000000</td>\n",
       "      <td>0.000308</td>\n",
       "      <td>...</td>\n",
       "      <td>0.038212</td>\n",
       "      <td>0.043809</td>\n",
       "      <td>0.000000</td>\n",
       "      <td>0.040461</td>\n",
       "      <td>0.030757</td>\n",
       "      <td>0.000000</td>\n",
       "      <td>0.000000</td>\n",
       "      <td>0.000000</td>\n",
       "      <td>0.000000</td>\n",
       "      <td>0.000000</td>\n",
       "    </tr>\n",
       "    <tr>\n",
       "      <th>3</th>\n",
       "      <td>0.041942</td>\n",
       "      <td>0.000863</td>\n",
       "      <td>0.000000</td>\n",
       "      <td>0.000000</td>\n",
       "      <td>0.000000</td>\n",
       "      <td>0.00000</td>\n",
       "      <td>0.00000</td>\n",
       "      <td>0.000000</td>\n",
       "      <td>0.000000</td>\n",
       "      <td>0.006088</td>\n",
       "      <td>...</td>\n",
       "      <td>0.000000</td>\n",
       "      <td>0.000000</td>\n",
       "      <td>0.000000</td>\n",
       "      <td>0.000000</td>\n",
       "      <td>0.000000</td>\n",
       "      <td>0.055214</td>\n",
       "      <td>0.038045</td>\n",
       "      <td>0.055214</td>\n",
       "      <td>0.051075</td>\n",
       "      <td>0.000000</td>\n",
       "    </tr>\n",
       "  </tbody>\n",
       "</table>\n",
       "<p>4 rows × 762 columns</p>\n",
       "</div>"
      ],
      "text/plain": [
       "        0         1         2         3         4        5        6    \\\n",
       "0  0.000000  0.000000  0.000167  0.000167  0.000000  0.00000  0.00000   \n",
       "1  0.000000  0.002313  0.000000  0.000000  0.000000  0.04943  0.04943   \n",
       "2  0.000000  0.061764  0.043809  0.043809  0.027345  0.00000  0.00000   \n",
       "3  0.041942  0.000863  0.000000  0.000000  0.000000  0.00000  0.00000   \n",
       "\n",
       "        7         8         9      ...          752       753       754  \\\n",
       "0  0.000000  0.043785  0.009480    ...     0.070171  0.000167  0.043785   \n",
       "1  0.038615  0.000000  0.013302    ...     0.000000  0.000000  0.000000   \n",
       "2  0.000000  0.000000  0.000308    ...     0.038212  0.043809  0.000000   \n",
       "3  0.000000  0.000000  0.006088    ...     0.000000  0.000000  0.000000   \n",
       "\n",
       "        755       756       757       758       759       760       761  \n",
       "0  0.000000  0.164007  0.000000  0.100863  0.000000  0.000000  0.000000  \n",
       "1  0.000000  0.000000  0.000000  0.000000  0.000000  0.000000  0.060752  \n",
       "2  0.040461  0.030757  0.000000  0.000000  0.000000  0.000000  0.000000  \n",
       "3  0.000000  0.000000  0.055214  0.038045  0.055214  0.051075  0.000000  \n",
       "\n",
       "[4 rows x 762 columns]"
      ]
     },
     "execution_count": 308,
     "metadata": {},
     "output_type": "execute_result"
    }
   ],
   "source": [
    "components_df = pd.DataFrame(model.components_)   # Showing the features weight wise\n",
    "components_df"
   ]
  },
  {
   "cell_type": "code",
   "execution_count": 309,
   "metadata": {},
   "outputs": [
    {
     "data": {
      "text/html": [
       "<div>\n",
       "<style scoped>\n",
       "    .dataframe tbody tr th:only-of-type {\n",
       "        vertical-align: middle;\n",
       "    }\n",
       "\n",
       "    .dataframe tbody tr th {\n",
       "        vertical-align: top;\n",
       "    }\n",
       "\n",
       "    .dataframe thead th {\n",
       "        text-align: right;\n",
       "    }\n",
       "</style>\n",
       "<table border=\"1\" class=\"dataframe\">\n",
       "  <thead>\n",
       "    <tr style=\"text-align: right;\">\n",
       "      <th></th>\n",
       "      <th>ability</th>\n",
       "      <th>academic</th>\n",
       "      <th>account</th>\n",
       "      <th>accounted</th>\n",
       "      <th>accurately</th>\n",
       "      <th>acquisition</th>\n",
       "      <th>act</th>\n",
       "      <th>activity</th>\n",
       "      <th>additionally</th>\n",
       "      <th>admission</th>\n",
       "      <th>...</th>\n",
       "      <th>widely</th>\n",
       "      <th>wilhelm</th>\n",
       "      <th>witnessed</th>\n",
       "      <th>work</th>\n",
       "      <th>world</th>\n",
       "      <th>writing</th>\n",
       "      <th>year</th>\n",
       "      <th>yet</th>\n",
       "      <th>york</th>\n",
       "      <th>young</th>\n",
       "    </tr>\n",
       "  </thead>\n",
       "  <tbody>\n",
       "    <tr>\n",
       "      <th>0</th>\n",
       "      <td>0.000000</td>\n",
       "      <td>0.000000</td>\n",
       "      <td>0.000167</td>\n",
       "      <td>0.000167</td>\n",
       "      <td>0.000000</td>\n",
       "      <td>0.00000</td>\n",
       "      <td>0.00000</td>\n",
       "      <td>0.000000</td>\n",
       "      <td>0.043785</td>\n",
       "      <td>0.009480</td>\n",
       "      <td>...</td>\n",
       "      <td>0.070171</td>\n",
       "      <td>0.000167</td>\n",
       "      <td>0.043785</td>\n",
       "      <td>0.000000</td>\n",
       "      <td>0.164007</td>\n",
       "      <td>0.000000</td>\n",
       "      <td>0.100863</td>\n",
       "      <td>0.000000</td>\n",
       "      <td>0.000000</td>\n",
       "      <td>0.000000</td>\n",
       "    </tr>\n",
       "    <tr>\n",
       "      <th>1</th>\n",
       "      <td>0.000000</td>\n",
       "      <td>0.002313</td>\n",
       "      <td>0.000000</td>\n",
       "      <td>0.000000</td>\n",
       "      <td>0.000000</td>\n",
       "      <td>0.04943</td>\n",
       "      <td>0.04943</td>\n",
       "      <td>0.038615</td>\n",
       "      <td>0.000000</td>\n",
       "      <td>0.013302</td>\n",
       "      <td>...</td>\n",
       "      <td>0.000000</td>\n",
       "      <td>0.000000</td>\n",
       "      <td>0.000000</td>\n",
       "      <td>0.000000</td>\n",
       "      <td>0.000000</td>\n",
       "      <td>0.000000</td>\n",
       "      <td>0.000000</td>\n",
       "      <td>0.000000</td>\n",
       "      <td>0.000000</td>\n",
       "      <td>0.060752</td>\n",
       "    </tr>\n",
       "    <tr>\n",
       "      <th>2</th>\n",
       "      <td>0.000000</td>\n",
       "      <td>0.061764</td>\n",
       "      <td>0.043809</td>\n",
       "      <td>0.043809</td>\n",
       "      <td>0.027345</td>\n",
       "      <td>0.00000</td>\n",
       "      <td>0.00000</td>\n",
       "      <td>0.000000</td>\n",
       "      <td>0.000000</td>\n",
       "      <td>0.000308</td>\n",
       "      <td>...</td>\n",
       "      <td>0.038212</td>\n",
       "      <td>0.043809</td>\n",
       "      <td>0.000000</td>\n",
       "      <td>0.040461</td>\n",
       "      <td>0.030757</td>\n",
       "      <td>0.000000</td>\n",
       "      <td>0.000000</td>\n",
       "      <td>0.000000</td>\n",
       "      <td>0.000000</td>\n",
       "      <td>0.000000</td>\n",
       "    </tr>\n",
       "    <tr>\n",
       "      <th>3</th>\n",
       "      <td>0.041942</td>\n",
       "      <td>0.000863</td>\n",
       "      <td>0.000000</td>\n",
       "      <td>0.000000</td>\n",
       "      <td>0.000000</td>\n",
       "      <td>0.00000</td>\n",
       "      <td>0.00000</td>\n",
       "      <td>0.000000</td>\n",
       "      <td>0.000000</td>\n",
       "      <td>0.006088</td>\n",
       "      <td>...</td>\n",
       "      <td>0.000000</td>\n",
       "      <td>0.000000</td>\n",
       "      <td>0.000000</td>\n",
       "      <td>0.000000</td>\n",
       "      <td>0.000000</td>\n",
       "      <td>0.055214</td>\n",
       "      <td>0.038045</td>\n",
       "      <td>0.055214</td>\n",
       "      <td>0.051075</td>\n",
       "      <td>0.000000</td>\n",
       "    </tr>\n",
       "  </tbody>\n",
       "</table>\n",
       "<p>4 rows × 762 columns</p>\n",
       "</div>"
      ],
      "text/plain": [
       "    ability  academic   account  accounted  accurately  acquisition      act  \\\n",
       "0  0.000000  0.000000  0.000167   0.000167    0.000000      0.00000  0.00000   \n",
       "1  0.000000  0.002313  0.000000   0.000000    0.000000      0.04943  0.04943   \n",
       "2  0.000000  0.061764  0.043809   0.043809    0.027345      0.00000  0.00000   \n",
       "3  0.041942  0.000863  0.000000   0.000000    0.000000      0.00000  0.00000   \n",
       "\n",
       "   activity  additionally  admission    ...       widely   wilhelm  witnessed  \\\n",
       "0  0.000000      0.043785   0.009480    ...     0.070171  0.000167   0.043785   \n",
       "1  0.038615      0.000000   0.013302    ...     0.000000  0.000000   0.000000   \n",
       "2  0.000000      0.000000   0.000308    ...     0.038212  0.043809   0.000000   \n",
       "3  0.000000      0.000000   0.006088    ...     0.000000  0.000000   0.000000   \n",
       "\n",
       "       work     world   writing      year       yet      york     young  \n",
       "0  0.000000  0.164007  0.000000  0.100863  0.000000  0.000000  0.000000  \n",
       "1  0.000000  0.000000  0.000000  0.000000  0.000000  0.000000  0.060752  \n",
       "2  0.040461  0.030757  0.000000  0.000000  0.000000  0.000000  0.000000  \n",
       "3  0.000000  0.000000  0.055214  0.038045  0.055214  0.051075  0.000000  \n",
       "\n",
       "[4 rows x 762 columns]"
      ]
     },
     "execution_count": 309,
     "metadata": {},
     "output_type": "execute_result"
    }
   ],
   "source": [
    "components_df = pd.DataFrame(model.components_, columns=words)\n",
    "components_df"
   ]
  },
  {
   "cell_type": "raw",
   "metadata": {},
   "source": [
    "A matrix of (components X features) tells you how these features are related with components. If this matrix is analyzed deeply, then we can understand that there is strict pattern/correlation of features with each component.\n",
    "Saying 3 features are having high correlation with component A\n",
    "and 2 features are having high correlation with component B\n",
    "and 5 features are having high correlation with component C\n",
    "and 12 features are having high correlation with component D\n",
    "\n",
    "This way grouping/clustering is done and each component represents a cluster or we can say a dimension.\n",
    "\n",
    "Lastly, this N(762) dimensional data can be represented using only 4 dimensions."
   ]
  },
  {
   "cell_type": "code",
   "execution_count": 310,
   "metadata": {},
   "outputs": [
    {
     "name": "stdout",
     "output_type": "stream",
     "text": [
      "cricket          0.618692\n",
      "international    0.285682\n",
      "indian           0.273586\n",
      "test             0.227700\n",
      "team             0.225801\n",
      "Name: 0, dtype: float64\n"
     ]
    }
   ],
   "source": [
    "component = components_df.iloc[0] # taking first component and checking what all features are having greater weights\n",
    "print(component.nlargest())  # It means cricket is having highest weight. It can be the fact that 'cricket' occured more than any other word (feature)"
   ]
  },
  {
   "cell_type": "code",
   "execution_count": 311,
   "metadata": {},
   "outputs": [
    {
     "name": "stdout",
     "output_type": "stream",
     "text": [
      "education      0.449623\n",
      "school         0.401763\n",
      "student        0.206097\n",
      "institution    0.191788\n",
      "university     0.156740\n",
      "Name: 1, dtype: float64\n"
     ]
    }
   ],
   "source": [
    "component = components_df.iloc[1]\n",
    "print(component.nlargest())"
   ]
  },
  {
   "cell_type": "code",
   "execution_count": 312,
   "metadata": {},
   "outputs": [
    {
     "data": {
      "text/plain": [
       "array([[0.        , 0.69713357, 0.        , 0.        ],\n",
       "       [0.54351774, 0.        , 0.        , 0.00230922],\n",
       "       [0.        , 0.        , 0.00433635, 0.67148785],\n",
       "       [0.13229142, 0.2681941 , 0.00942917, 0.10610663],\n",
       "       [0.40618131, 0.        , 0.        , 0.        ],\n",
       "       [0.        , 0.        , 0.46489429, 0.        ],\n",
       "       [0.        , 0.78445763, 0.        , 0.        ],\n",
       "       [0.        , 0.        , 0.        , 0.54265988],\n",
       "       [0.        , 0.02578798, 0.44142282, 0.01096631],\n",
       "       [0.0063627 , 0.        , 0.60391306, 0.00446811],\n",
       "       [0.        , 0.53197035, 0.        , 0.        ],\n",
       "       [0.43795715, 0.        , 0.        , 0.        ],\n",
       "       [0.55047433, 0.        , 0.00655274, 0.        ],\n",
       "       [0.        , 0.        , 0.6343606 , 0.        ],\n",
       "       [0.00675387, 0.        , 0.        , 0.66493922]])"
      ]
     },
     "execution_count": 312,
     "metadata": {},
     "output_type": "execute_result"
    }
   ],
   "source": [
    "nmf_features"
   ]
  },
  {
   "cell_type": "code",
   "execution_count": 313,
   "metadata": {},
   "outputs": [],
   "source": [
    "kmeans = KMeans(n_clusters = 4)\n",
    "kmeans.fit_transform(nmf_features)\n",
    "labels = kmeans.predict(nmf_features)"
   ]
  },
  {
   "cell_type": "code",
   "execution_count": 317,
   "metadata": {},
   "outputs": [],
   "source": [
    "df = pd.DataFrame({'Articles': WikiLabels['labels'], 'Category': labels})"
   ]
  },
  {
   "cell_type": "code",
   "execution_count": 323,
   "metadata": {},
   "outputs": [
    {
     "data": {
      "text/html": [
       "<div>\n",
       "<style scoped>\n",
       "    .dataframe tbody tr th:only-of-type {\n",
       "        vertical-align: middle;\n",
       "    }\n",
       "\n",
       "    .dataframe tbody tr th {\n",
       "        vertical-align: top;\n",
       "    }\n",
       "\n",
       "    .dataframe thead th {\n",
       "        text-align: right;\n",
       "    }\n",
       "</style>\n",
       "<table border=\"1\" class=\"dataframe\">\n",
       "  <thead>\n",
       "    <tr style=\"text-align: right;\">\n",
       "      <th></th>\n",
       "      <th>Articles</th>\n",
       "      <th>Category</th>\n",
       "    </tr>\n",
       "  </thead>\n",
       "  <tbody>\n",
       "    <tr>\n",
       "      <th>0</th>\n",
       "      <td>Education</td>\n",
       "      <td>0</td>\n",
       "    </tr>\n",
       "    <tr>\n",
       "      <th>3</th>\n",
       "      <td>GATE</td>\n",
       "      <td>0</td>\n",
       "    </tr>\n",
       "    <tr>\n",
       "      <th>6</th>\n",
       "      <td>School</td>\n",
       "      <td>0</td>\n",
       "    </tr>\n",
       "    <tr>\n",
       "      <th>10</th>\n",
       "      <td>Student</td>\n",
       "      <td>0</td>\n",
       "    </tr>\n",
       "    <tr>\n",
       "      <th>5</th>\n",
       "      <td>Gravity</td>\n",
       "      <td>1</td>\n",
       "    </tr>\n",
       "    <tr>\n",
       "      <th>8</th>\n",
       "      <td>Physics</td>\n",
       "      <td>1</td>\n",
       "    </tr>\n",
       "    <tr>\n",
       "      <th>9</th>\n",
       "      <td>Newton</td>\n",
       "      <td>1</td>\n",
       "    </tr>\n",
       "    <tr>\n",
       "      <th>13</th>\n",
       "      <td>Albert Einstein</td>\n",
       "      <td>1</td>\n",
       "    </tr>\n",
       "    <tr>\n",
       "      <th>2</th>\n",
       "      <td>Information Technology</td>\n",
       "      <td>2</td>\n",
       "    </tr>\n",
       "    <tr>\n",
       "      <th>7</th>\n",
       "      <td>Computer</td>\n",
       "      <td>2</td>\n",
       "    </tr>\n",
       "    <tr>\n",
       "      <th>14</th>\n",
       "      <td>IBM</td>\n",
       "      <td>2</td>\n",
       "    </tr>\n",
       "    <tr>\n",
       "      <th>1</th>\n",
       "      <td>Sachin Tendulkar</td>\n",
       "      <td>3</td>\n",
       "    </tr>\n",
       "    <tr>\n",
       "      <th>4</th>\n",
       "      <td>Ranji Trophy</td>\n",
       "      <td>3</td>\n",
       "    </tr>\n",
       "    <tr>\n",
       "      <th>11</th>\n",
       "      <td>Wankhede Stadium</td>\n",
       "      <td>3</td>\n",
       "    </tr>\n",
       "    <tr>\n",
       "      <th>12</th>\n",
       "      <td>Dhoni</td>\n",
       "      <td>3</td>\n",
       "    </tr>\n",
       "  </tbody>\n",
       "</table>\n",
       "</div>"
      ],
      "text/plain": [
       "                  Articles  Category\n",
       "0                Education         0\n",
       "3                     GATE         0\n",
       "6                   School         0\n",
       "10                 Student         0\n",
       "5                  Gravity         1\n",
       "8                  Physics         1\n",
       "9                   Newton         1\n",
       "13         Albert Einstein         1\n",
       "2   Information Technology         2\n",
       "7                 Computer         2\n",
       "14                     IBM         2\n",
       "1         Sachin Tendulkar         3\n",
       "4             Ranji Trophy         3\n",
       "11        Wankhede Stadium         3\n",
       "12                   Dhoni         3"
      ]
     },
     "execution_count": 323,
     "metadata": {},
     "output_type": "execute_result"
    }
   ],
   "source": [
    "df.sort_values(by='Category')"
   ]
  }
 ],
 "metadata": {
  "kernelspec": {
   "display_name": "Python 3",
   "language": "python",
   "name": "python3"
  },
  "language_info": {
   "codemirror_mode": {
    "name": "ipython",
    "version": 3
   },
   "file_extension": ".py",
   "mimetype": "text/x-python",
   "name": "python",
   "nbconvert_exporter": "python",
   "pygments_lexer": "ipython3",
   "version": "3.6.3"
  }
 },
 "nbformat": 4,
 "nbformat_minor": 2
}

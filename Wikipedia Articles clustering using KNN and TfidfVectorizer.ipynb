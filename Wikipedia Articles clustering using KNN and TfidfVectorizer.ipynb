{
 "cells": [
  {
   "cell_type": "code",
   "execution_count": 181,
   "metadata": {
    "collapsed": true
   },
   "outputs": [],
   "source": [
    "import pandas as pd\n",
    "from nltk.corpus import stopwords\n",
    "from sklearn.model_selection import train_test_split\n",
    "from sklearn.feature_extraction.text import TfidfVectorizer\n",
    "from sklearn.decomposition import TruncatedSVD\n",
    "from sklearn.cluster import KMeans\n",
    "from sklearn.pipeline import make_pipeline\n",
    "from textblob import Word"
   ]
  },
  {
   "cell_type": "code",
   "execution_count": 182,
   "metadata": {},
   "outputs": [
    {
     "data": {
      "text/plain": [
       "15"
      ]
     },
     "execution_count": 182,
     "metadata": {},
     "output_type": "execute_result"
    }
   ],
   "source": [
    "with open('C:\\\\Users\\\\Deepak\\\\Downloads\\\\WikiArticles.txt') as f:\n",
    "    articles = list(f)\n",
    "len(articles)"
   ]
  },
  {
   "cell_type": "code",
   "execution_count": 183,
   "metadata": {},
   "outputs": [
    {
     "data": {
      "text/html": [
       "<div>\n",
       "<style scoped>\n",
       "    .dataframe tbody tr th:only-of-type {\n",
       "        vertical-align: middle;\n",
       "    }\n",
       "\n",
       "    .dataframe tbody tr th {\n",
       "        vertical-align: top;\n",
       "    }\n",
       "\n",
       "    .dataframe thead th {\n",
       "        text-align: right;\n",
       "    }\n",
       "</style>\n",
       "<table border=\"1\" class=\"dataframe\">\n",
       "  <thead>\n",
       "    <tr style=\"text-align: right;\">\n",
       "      <th></th>\n",
       "      <th>Desc</th>\n",
       "    </tr>\n",
       "  </thead>\n",
       "  <tbody>\n",
       "    <tr>\n",
       "      <th>0</th>\n",
       "      <td>Education is the process of facilitating learn...</td>\n",
       "    </tr>\n",
       "    <tr>\n",
       "      <th>1</th>\n",
       "      <td>Sachin Ramesh Tendulkar (/?s?t??n t?n?du?lk?r/...</td>\n",
       "    </tr>\n",
       "    <tr>\n",
       "      <th>2</th>\n",
       "      <td>Information technology (IT) is the use of comp...</td>\n",
       "    </tr>\n",
       "    <tr>\n",
       "      <th>3</th>\n",
       "      <td>The Graduate Aptitude Test in Engineering (GAT...</td>\n",
       "    </tr>\n",
       "    <tr>\n",
       "      <th>4</th>\n",
       "      <td>The Ranji Trophy is a domestic first-class cri...</td>\n",
       "    </tr>\n",
       "    <tr>\n",
       "      <th>5</th>\n",
       "      <td>Gravity (from Latin gravitas, meaning 'weight'...</td>\n",
       "    </tr>\n",
       "    <tr>\n",
       "      <th>6</th>\n",
       "      <td>A school is an institution designed to provide...</td>\n",
       "    </tr>\n",
       "    <tr>\n",
       "      <th>7</th>\n",
       "      <td>A computer is a device that can be instructed ...</td>\n",
       "    </tr>\n",
       "    <tr>\n",
       "      <th>8</th>\n",
       "      <td>Physics (from Ancient Greek: ?????? (????????)...</td>\n",
       "    </tr>\n",
       "    <tr>\n",
       "      <th>9</th>\n",
       "      <td>Sir Isaac Newton FRS PRS (25 December 1642 – 2...</td>\n",
       "    </tr>\n",
       "    <tr>\n",
       "      <th>10</th>\n",
       "      <td>A student is primarily a person enrolled in a ...</td>\n",
       "    </tr>\n",
       "    <tr>\n",
       "      <th>11</th>\n",
       "      <td>The Wankhede Stadium (Marathi: ??????? ???????...</td>\n",
       "    </tr>\n",
       "    <tr>\n",
       "      <th>12</th>\n",
       "      <td>Mahendra Singh Dhoni (About this soundpronunci...</td>\n",
       "    </tr>\n",
       "    <tr>\n",
       "      <th>13</th>\n",
       "      <td>Albert Einstein (/'a?nsta?n/;[4] German: ['alb...</td>\n",
       "    </tr>\n",
       "    <tr>\n",
       "      <th>14</th>\n",
       "      <td>International Business Machines Corporation (I...</td>\n",
       "    </tr>\n",
       "  </tbody>\n",
       "</table>\n",
       "</div>"
      ],
      "text/plain": [
       "                                                 Desc\n",
       "0   Education is the process of facilitating learn...\n",
       "1   Sachin Ramesh Tendulkar (/?s?t??n t?n?du?lk?r/...\n",
       "2   Information technology (IT) is the use of comp...\n",
       "3   The Graduate Aptitude Test in Engineering (GAT...\n",
       "4   The Ranji Trophy is a domestic first-class cri...\n",
       "5   Gravity (from Latin gravitas, meaning 'weight'...\n",
       "6   A school is an institution designed to provide...\n",
       "7   A computer is a device that can be instructed ...\n",
       "8   Physics (from Ancient Greek: ?????? (????????)...\n",
       "9   Sir Isaac Newton FRS PRS (25 December 1642 – 2...\n",
       "10  A student is primarily a person enrolled in a ...\n",
       "11  The Wankhede Stadium (Marathi: ??????? ???????...\n",
       "12  Mahendra Singh Dhoni (About this soundpronunci...\n",
       "13  Albert Einstein (/'a?nsta?n/;[4] German: ['alb...\n",
       "14  International Business Machines Corporation (I..."
      ]
     },
     "execution_count": 183,
     "metadata": {},
     "output_type": "execute_result"
    }
   ],
   "source": [
    "WikiDesc = pd.DataFrame({'Desc': articles})\n",
    "WikiDesc"
   ]
  },
  {
   "cell_type": "code",
   "execution_count": 184,
   "metadata": {},
   "outputs": [
    {
     "data": {
      "text/plain": [
       "15"
      ]
     },
     "execution_count": 184,
     "metadata": {},
     "output_type": "execute_result"
    }
   ],
   "source": [
    "with open('C:\\\\Users\\\\Deepak\\\\Downloads\\\\Labels.txt') as f:\n",
    "    labels = list(f)\n",
    "len(labels)"
   ]
  },
  {
   "cell_type": "code",
   "execution_count": 185,
   "metadata": {},
   "outputs": [
    {
     "data": {
      "text/html": [
       "<div>\n",
       "<style scoped>\n",
       "    .dataframe tbody tr th:only-of-type {\n",
       "        vertical-align: middle;\n",
       "    }\n",
       "\n",
       "    .dataframe tbody tr th {\n",
       "        vertical-align: top;\n",
       "    }\n",
       "\n",
       "    .dataframe thead th {\n",
       "        text-align: right;\n",
       "    }\n",
       "</style>\n",
       "<table border=\"1\" class=\"dataframe\">\n",
       "  <thead>\n",
       "    <tr style=\"text-align: right;\">\n",
       "      <th></th>\n",
       "      <th>labels</th>\n",
       "    </tr>\n",
       "  </thead>\n",
       "  <tbody>\n",
       "    <tr>\n",
       "      <th>0</th>\n",
       "      <td>Education\\n</td>\n",
       "    </tr>\n",
       "    <tr>\n",
       "      <th>1</th>\n",
       "      <td>Sachin Tendulkar\\n</td>\n",
       "    </tr>\n",
       "    <tr>\n",
       "      <th>2</th>\n",
       "      <td>Information Technology\\n</td>\n",
       "    </tr>\n",
       "    <tr>\n",
       "      <th>3</th>\n",
       "      <td>GATE\\n</td>\n",
       "    </tr>\n",
       "    <tr>\n",
       "      <th>4</th>\n",
       "      <td>Ranji Trophy\\n</td>\n",
       "    </tr>\n",
       "    <tr>\n",
       "      <th>5</th>\n",
       "      <td>Gravity\\n</td>\n",
       "    </tr>\n",
       "    <tr>\n",
       "      <th>6</th>\n",
       "      <td>School\\n</td>\n",
       "    </tr>\n",
       "    <tr>\n",
       "      <th>7</th>\n",
       "      <td>Computer\\n</td>\n",
       "    </tr>\n",
       "    <tr>\n",
       "      <th>8</th>\n",
       "      <td>Physics\\n</td>\n",
       "    </tr>\n",
       "    <tr>\n",
       "      <th>9</th>\n",
       "      <td>Newton\\n</td>\n",
       "    </tr>\n",
       "    <tr>\n",
       "      <th>10</th>\n",
       "      <td>Student\\n</td>\n",
       "    </tr>\n",
       "    <tr>\n",
       "      <th>11</th>\n",
       "      <td>Wankhede Stadium\\n</td>\n",
       "    </tr>\n",
       "    <tr>\n",
       "      <th>12</th>\n",
       "      <td>Dhoni\\n</td>\n",
       "    </tr>\n",
       "    <tr>\n",
       "      <th>13</th>\n",
       "      <td>Albert Einstein\\n</td>\n",
       "    </tr>\n",
       "    <tr>\n",
       "      <th>14</th>\n",
       "      <td>IBM\\n</td>\n",
       "    </tr>\n",
       "  </tbody>\n",
       "</table>\n",
       "</div>"
      ],
      "text/plain": [
       "                      labels\n",
       "0                Education\\n\n",
       "1         Sachin Tendulkar\\n\n",
       "2   Information Technology\\n\n",
       "3                     GATE\\n\n",
       "4             Ranji Trophy\\n\n",
       "5                  Gravity\\n\n",
       "6                   School\\n\n",
       "7                 Computer\\n\n",
       "8                  Physics\\n\n",
       "9                   Newton\\n\n",
       "10                 Student\\n\n",
       "11        Wankhede Stadium\\n\n",
       "12                   Dhoni\\n\n",
       "13         Albert Einstein\\n\n",
       "14                     IBM\\n"
      ]
     },
     "execution_count": 185,
     "metadata": {},
     "output_type": "execute_result"
    }
   ],
   "source": [
    "WikiLabels = pd.DataFrame({'labels': labels})\n",
    "WikiLabels"
   ]
  },
  {
   "cell_type": "code",
   "execution_count": 186,
   "metadata": {},
   "outputs": [
    {
     "data": {
      "text/plain": [
       "0                  Education\n",
       "1           Sachin Tendulkar\n",
       "2     Information Technology\n",
       "3                       GATE\n",
       "4               Ranji Trophy\n",
       "5                    Gravity\n",
       "6                     School\n",
       "7                   Computer\n",
       "8                    Physics\n",
       "9                     Newton\n",
       "10                   Student\n",
       "11          Wankhede Stadium\n",
       "12                     Dhoni\n",
       "13           Albert Einstein\n",
       "14                       IBM\n",
       "Name: labels, dtype: object"
      ]
     },
     "execution_count": 186,
     "metadata": {},
     "output_type": "execute_result"
    }
   ],
   "source": [
    "WikiLabels['labels'] = WikiLabels['labels'].replace('\\n','', regex=True)\n",
    "WikiLabels['labels']"
   ]
  },
  {
   "cell_type": "code",
   "execution_count": 187,
   "metadata": {},
   "outputs": [
    {
     "data": {
      "text/plain": [
       "the          133\n",
       "of           112\n",
       "and           72\n",
       "in            58\n",
       "is            47\n",
       "to            45\n",
       "a             38\n",
       "for           24\n",
       "as            24\n",
       "by            22\n",
       "The           19\n",
       "or            16\n",
       "his           15\n",
       "which         13\n",
       "that          13\n",
       "also          12\n",
       "most          12\n",
       "one           11\n",
       "with          11\n",
       "an            10\n",
       "He            10\n",
       "Indian        10\n",
       "who            9\n",
       "was            9\n",
       "theory         8\n",
       "on             8\n",
       "has            8\n",
       "cricket        7\n",
       "such           7\n",
       "education      7\n",
       "dtype: int64"
      ]
     },
     "execution_count": 187,
     "metadata": {},
     "output_type": "execute_result"
    }
   ],
   "source": [
    "freq = pd.Series(' '.join(WikiDesc['Desc']).split()).value_counts()[:30]\n",
    "freq"
   ]
  },
  {
   "cell_type": "code",
   "execution_count": 188,
   "metadata": {},
   "outputs": [
    {
     "name": "stdout",
     "output_type": "stream",
     "text": [
      "(15, 938)\n"
     ]
    },
    {
     "data": {
      "text/plain": [
       "<15x938 sparse matrix of type '<class 'numpy.float64'>'\n",
       "\twith 1453 stored elements in Compressed Sparse Row format>"
      ]
     },
     "execution_count": 188,
     "metadata": {},
     "output_type": "execute_result"
    }
   ],
   "source": [
    "tfidf_vec = TfidfVectorizer()\n",
    "test_tfidf = tfidf_vec.fit_transform(WikiDesc['Desc']) \n",
    "print(test_tfidf.shape)\n",
    "test_tfidf"
   ]
  },
  {
   "cell_type": "code",
   "execution_count": 189,
   "metadata": {},
   "outputs": [
    {
     "data": {
      "text/plain": [
       "938"
      ]
     },
     "execution_count": 189,
     "metadata": {},
     "output_type": "execute_result"
    }
   ],
   "source": [
    "len(tfidf_vec.vocabulary_)"
   ]
  },
  {
   "cell_type": "markdown",
   "metadata": {},
   "source": [
    "### Removing punctuations and stop words"
   ]
  },
  {
   "cell_type": "code",
   "execution_count": 190,
   "metadata": {
    "collapsed": true
   },
   "outputs": [],
   "source": [
    "stop = stopwords.words('English')"
   ]
  },
  {
   "cell_type": "code",
   "execution_count": 191,
   "metadata": {
    "collapsed": true
   },
   "outputs": [],
   "source": [
    "WikiDesc['Desc_Transformed'] = WikiDesc['Desc'].apply(lambda x: \" \".join(x.lower() for x in x.split()))  # Lowering the text\n",
    "WikiDesc['Desc_Transformed'] = WikiDesc['Desc_Transformed'].str.replace('[^\\w\\s]','')  # Special characters"
   ]
  },
  {
   "cell_type": "code",
   "execution_count": 192,
   "metadata": {
    "collapsed": true
   },
   "outputs": [],
   "source": [
    "WikiDesc['Desc_Transformed'] = WikiDesc['Desc_Transformed'].apply(lambda x: \" \".join(x for x in x.split() if x not in stop)) # Stop words removal\n",
    "WikiDesc['Desc_Transformed'] = WikiDesc['Desc_Transformed'].str.replace(r'\\d+', ' ')  # Digits removal\n",
    "WikiDesc['Desc_Transformed'] = WikiDesc['Desc_Transformed'].str.replace(r'\\s+', ' ')  # Extra space removal"
   ]
  },
  {
   "cell_type": "code",
   "execution_count": 193,
   "metadata": {},
   "outputs": [
    {
     "data": {
      "text/plain": [
       "cricket          17\n",
       "education        13\n",
       "one              12\n",
       "also             12\n",
       "indian           10\n",
       "theory           10\n",
       "physics          10\n",
       "international    10\n",
       "gravity          10\n",
       "india             8\n",
       "information       7\n",
       "technology        7\n",
       "relativity        7\n",
       "stadium           6\n",
       "gate              6\n",
       "computers         6\n",
       "time              6\n",
       "natural           6\n",
       "known             6\n",
       "mechanics         6\n",
       "school            6\n",
       "university        5\n",
       "ibm               5\n",
       "general           5\n",
       "business          5\n",
       "philosophy        5\n",
       "research          5\n",
       "master            5\n",
       "devices           5\n",
       "motion            5\n",
       "dtype: int64"
      ]
     },
     "execution_count": 193,
     "metadata": {},
     "output_type": "execute_result"
    }
   ],
   "source": [
    "freq = pd.Series(' '.join(WikiDesc['Desc_Transformed']).split()).value_counts()[:30]\n",
    "freq"
   ]
  },
  {
   "cell_type": "code",
   "execution_count": 194,
   "metadata": {
    "collapsed": true
   },
   "outputs": [],
   "source": [
    "To_remove = ['one', 'also', 'known', 'general']\n",
    "WikiDesc['Desc_Transformed'] = WikiDesc['Desc_Transformed'].apply(lambda x: \" \".join(x for x in x.split() if x not in To_remove))"
   ]
  },
  {
   "cell_type": "markdown",
   "metadata": {},
   "source": [
    "### Lemmatization"
   ]
  },
  {
   "cell_type": "code",
   "execution_count": 195,
   "metadata": {},
   "outputs": [],
   "source": [
    "WikiDesc['Desc_Transformed'] = WikiDesc['Desc_Transformed'].apply(lambda x: \" \".join([Word(word).lemmatize() for word in x.split()]))"
   ]
  },
  {
   "cell_type": "code",
   "execution_count": 196,
   "metadata": {},
   "outputs": [
    {
     "data": {
      "text/plain": [
       "'Sachin Ramesh Tendulkar (/?s?t??n t?n?du?lk?r/ (About this soundlisten); born 24 April 1973) is a former Indian international cricketer and a former captain of the Indian national team, regarded as the greatest batsman of all time.[4] He is the highest run scorer of all time in International cricket. Tendulkar took up cricket at the age of eleven, made his Test debut on 15 November 1989 against Pakistan in Karachi at the age of sixteen, and went on to represent Mumbai domestically and India internationally for close to twenty-four years. He is the only player to have scored one hundred international centuries, the first batsman to score a double century in a ODI, the holder of the record for the most number of runs in both Test and ODI, and the only player to complete more than 30,000 runs in international cricket.[5] He is colloquially known as Little Master or Master Blaster,[6][7][8][9] and often referred to as the God of Cricket by Indian cricket followers.[10][11] Despite his reputation, he is known for his modesty and humility, once stating \"I am not the God of cricket. I make mistakes, God doesn’t\".\\n'"
      ]
     },
     "execution_count": 196,
     "metadata": {},
     "output_type": "execute_result"
    }
   ],
   "source": [
    "WikiDesc['Desc'][1]"
   ]
  },
  {
   "cell_type": "code",
   "execution_count": 197,
   "metadata": {},
   "outputs": [
    {
     "data": {
      "text/plain": [
       "'sachin ramesh tendulkar stn tndulkr soundlisten born april former indian international cricketer former captain indian national team regarded greatest batsman time highest run scorer time international cricket tendulkar took cricket age eleven made test debut november pakistan karachi age sixteen went represent mumbai domestically india internationally close twentyfour year player scored hundred international century first batsman score double century odi holder record number run test odi player complete run international cricket colloquially little master master blaster often referred god cricket indian cricket follower despite reputation modesty humility stating god cricket make mistake god doesnt'"
      ]
     },
     "execution_count": 197,
     "metadata": {},
     "output_type": "execute_result"
    }
   ],
   "source": [
    "WikiDesc['Desc_Transformed'][1]"
   ]
  },
  {
   "cell_type": "code",
   "execution_count": 198,
   "metadata": {},
   "outputs": [
    {
     "data": {
      "text/plain": [
       "'International Business Machines Corporation (IBM) is an American multinational information technology company headquartered in Armonk, New York, with operations in over 170 countries. The company began in 1911 as the Computing-Tabulating-Recording Company (CTR) and was renamed \"International Business Machines\" in 1924. IBM produces and sells computer hardware, middleware and software, and provides hosting and consulting services in areas ranging from mainframe computers to nanotechnology. IBM is also a major research organization, holding the record for most U.S. patents generated by a business (as of 2018) for 25 consecutive years.[5] Inventions by IBM include the automated teller machine (ATM), the floppy disk, the hard disk drive, the magnetic stripe card, the relational database, the SQL programming language, the UPC barcode, and dynamic random-access memory (DRAM). The IBM mainframe, exemplified by the System/360, was the dominant computing platform during the 1960s and 1970s.\\n'"
      ]
     },
     "execution_count": 198,
     "metadata": {},
     "output_type": "execute_result"
    }
   ],
   "source": [
    "WikiDesc['Desc'][14]"
   ]
  },
  {
   "cell_type": "code",
   "execution_count": 199,
   "metadata": {},
   "outputs": [
    {
     "data": {
      "text/plain": [
       "'international business machine corporation ibm american multinational information technology company headquartered armonk new york operation country company began computingtabulatingrecording company ctr renamed international business machine ibm produce sell computer hardware middleware software provides hosting consulting service area ranging mainframe computer nanotechnology ibm major research organization holding record u patent generated business consecutive year invention ibm include automated teller machine atm floppy disk hard disk drive magnetic stripe card relational database sql programming language upc barcode dynamic randomaccess memory dram ibm mainframe exemplified system dominant computing platform s s'"
      ]
     },
     "execution_count": 199,
     "metadata": {},
     "output_type": "execute_result"
    }
   ],
   "source": [
    "WikiDesc['Desc_Transformed'][14]"
   ]
  },
  {
   "cell_type": "code",
   "execution_count": 200,
   "metadata": {},
   "outputs": [
    {
     "name": "stdout",
     "output_type": "stream",
     "text": [
      "(15, 762)\n"
     ]
    },
    {
     "data": {
      "text/plain": [
       "<15x762 sparse matrix of type '<class 'numpy.float64'>'\n",
       "\twith 985 stored elements in Compressed Sparse Row format>"
      ]
     },
     "execution_count": 200,
     "metadata": {},
     "output_type": "execute_result"
    }
   ],
   "source": [
    "tfidf_vec = TfidfVectorizer()\n",
    "test_tfidf = tfidf_vec.fit_transform(WikiDesc['Desc_Transformed']) \n",
    "print(test_tfidf.shape)\n",
    "test_tfidf"
   ]
  },
  {
   "cell_type": "code",
   "execution_count": 201,
   "metadata": {},
   "outputs": [
    {
     "data": {
      "text/plain": [
       "['ability',\n",
       " 'academic',\n",
       " 'account',\n",
       " 'accounted',\n",
       " 'accurately',\n",
       " 'acquisition',\n",
       " 'act',\n",
       " 'activity',\n",
       " 'additionally',\n",
       " 'admission',\n",
       " 'affair',\n",
       " 'age',\n",
       " 'agency',\n",
       " 'albert',\n",
       " 'albt',\n",
       " 'alongside',\n",
       " 'although',\n",
       " 'american',\n",
       " 'ancient',\n",
       " 'another']"
      ]
     },
     "execution_count": 201,
     "metadata": {},
     "output_type": "execute_result"
    }
   ],
   "source": [
    "words = tfidf_vec.get_feature_names()\n",
    "words[0: 20]"
   ]
  },
  {
   "cell_type": "code",
   "execution_count": 202,
   "metadata": {},
   "outputs": [
    {
     "data": {
      "text/plain": [
       "array([1, 0, 3, 1, 0, 2, 1, 3, 2, 2, 1, 0, 0, 2, 3])"
      ]
     },
     "execution_count": 202,
     "metadata": {},
     "output_type": "execute_result"
    }
   ],
   "source": [
    "svd = TruncatedSVD(n_components=50)\n",
    "kmeans = KMeans(n_clusters=4)\n",
    "pipeline = make_pipeline(svd, kmeans)\n",
    "pipeline.fit(test_tfidf)\n",
    "labels = pipeline.predict(test_tfidf)\n",
    "labels"
   ]
  },
  {
   "cell_type": "code",
   "execution_count": 203,
   "metadata": {},
   "outputs": [
    {
     "data": {
      "text/plain": [
       "762"
      ]
     },
     "execution_count": 203,
     "metadata": {},
     "output_type": "execute_result"
    }
   ],
   "source": [
    "len(tfidf_vec.vocabulary_)"
   ]
  },
  {
   "cell_type": "code",
   "execution_count": 204,
   "metadata": {
    "collapsed": true
   },
   "outputs": [],
   "source": [
    "# Vocabulary has been reduced after removing stop words"
   ]
  },
  {
   "cell_type": "code",
   "execution_count": 205,
   "metadata": {},
   "outputs": [
    {
     "name": "stdout",
     "output_type": "stream",
     "text": [
      "    label                 article\n",
      "1       0        Sachin Tendulkar\n",
      "4       0            Ranji Trophy\n",
      "11      0        Wankhede Stadium\n",
      "12      0                   Dhoni\n",
      "0       1               Education\n",
      "3       1                    GATE\n",
      "6       1                  School\n",
      "10      1                 Student\n",
      "5       2                 Gravity\n",
      "8       2                 Physics\n",
      "9       2                  Newton\n",
      "13      2         Albert Einstein\n",
      "2       3  Information Technology\n",
      "7       3                Computer\n",
      "14      3                     IBM\n"
     ]
    }
   ],
   "source": [
    "df = pd.DataFrame({'label': labels, 'article': WikiLabels['labels']})\n",
    "print(df.sort_values(by='label'))"
   ]
  },
  {
   "cell_type": "code",
   "execution_count": 207,
   "metadata": {
    "collapsed": true
   },
   "outputs": [],
   "source": [
    "# KNN correctly classified correlated articles into separate cluster"
   ]
  }
 ],
 "metadata": {
  "kernelspec": {
   "display_name": "Python 3",
   "language": "python",
   "name": "python3"
  }
 },
 "nbformat": 4,
 "nbformat_minor": 2
}

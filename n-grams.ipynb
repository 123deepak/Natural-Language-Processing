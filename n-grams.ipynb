{
 "cells": [
  {
   "cell_type": "code",
   "execution_count": 1,
   "metadata": {},
   "outputs": [],
   "source": [
    "import pandas as pd\n",
    "from sklearn.feature_extraction.text import CountVectorizer, TfidfVectorizer\n",
    "import numpy as np"
   ]
  },
  {
   "cell_type": "code",
   "execution_count": 2,
   "metadata": {},
   "outputs": [
    {
     "data": {
      "text/html": [
       "<div>\n",
       "<style scoped>\n",
       "    .dataframe tbody tr th:only-of-type {\n",
       "        vertical-align: middle;\n",
       "    }\n",
       "\n",
       "    .dataframe tbody tr th {\n",
       "        vertical-align: top;\n",
       "    }\n",
       "\n",
       "    .dataframe thead th {\n",
       "        text-align: right;\n",
       "    }\n",
       "</style>\n",
       "<table border=\"1\" class=\"dataframe\">\n",
       "  <thead>\n",
       "    <tr style=\"text-align: right;\">\n",
       "      <th></th>\n",
       "      <th>Review</th>\n",
       "      <th>Rating</th>\n",
       "    </tr>\n",
       "  </thead>\n",
       "  <tbody>\n",
       "    <tr>\n",
       "      <th>0</th>\n",
       "      <td>I do not like this product</td>\n",
       "      <td>1</td>\n",
       "    </tr>\n",
       "    <tr>\n",
       "      <th>1</th>\n",
       "      <td>I like this product very much</td>\n",
       "      <td>5</td>\n",
       "    </tr>\n",
       "    <tr>\n",
       "      <th>2</th>\n",
       "      <td>This product is just awesome</td>\n",
       "      <td>4</td>\n",
       "    </tr>\n",
       "    <tr>\n",
       "      <th>3</th>\n",
       "      <td>I have recommended this product to my friend</td>\n",
       "      <td>4</td>\n",
       "    </tr>\n",
       "    <tr>\n",
       "      <th>4</th>\n",
       "      <td>horrible</td>\n",
       "      <td>2</td>\n",
       "    </tr>\n",
       "    <tr>\n",
       "      <th>5</th>\n",
       "      <td>waste of money</td>\n",
       "      <td>2</td>\n",
       "    </tr>\n",
       "    <tr>\n",
       "      <th>6</th>\n",
       "      <td>worth buying</td>\n",
       "      <td>5</td>\n",
       "    </tr>\n",
       "    <tr>\n",
       "      <th>7</th>\n",
       "      <td>perfect fit for my requirements</td>\n",
       "      <td>4</td>\n",
       "    </tr>\n",
       "    <tr>\n",
       "      <th>8</th>\n",
       "      <td>packaging is not good</td>\n",
       "      <td>3</td>\n",
       "    </tr>\n",
       "    <tr>\n",
       "      <th>9</th>\n",
       "      <td>it is really expensive</td>\n",
       "      <td>3</td>\n",
       "    </tr>\n",
       "  </tbody>\n",
       "</table>\n",
       "</div>"
      ],
      "text/plain": [
       "                                         Review  Rating\n",
       "0                    I do not like this product       1\n",
       "1                 I like this product very much       5\n",
       "2                  This product is just awesome       4\n",
       "3  I have recommended this product to my friend       4\n",
       "4                                      horrible       2\n",
       "5                                waste of money       2\n",
       "6                                  worth buying       5\n",
       "7               perfect fit for my requirements       4\n",
       "8                         packaging is not good       3\n",
       "9                        it is really expensive       3"
      ]
     },
     "execution_count": 2,
     "metadata": {},
     "output_type": "execute_result"
    }
   ],
   "source": [
    "data = pd.read_csv(\"reviews.csv\")\n",
    "data"
   ]
  },
  {
   "cell_type": "code",
   "execution_count": 3,
   "metadata": {},
   "outputs": [],
   "source": [
    "# 1 Gram / bag of words"
   ]
  },
  {
   "cell_type": "code",
   "execution_count": 4,
   "metadata": {},
   "outputs": [],
   "source": [
    "cv_1_gram = CountVectorizer()\n",
    "transformed_data_1_gram = cv_1_gram.fit_transform(data['Review'])"
   ]
  },
  {
   "cell_type": "code",
   "execution_count": 5,
   "metadata": {},
   "outputs": [
    {
     "data": {
      "text/plain": [
       "(10, 30)"
      ]
     },
     "execution_count": 5,
     "metadata": {},
     "output_type": "execute_result"
    }
   ],
   "source": [
    "transformed_data_1_gram.shape # This is simply a bag of words representation where the no. of dimensions are 30"
   ]
  },
  {
   "cell_type": "code",
   "execution_count": 6,
   "metadata": {
    "scrolled": true
   },
   "outputs": [
    {
     "data": {
      "text/plain": [
       "{'do': 2,\n",
       " 'not': 17,\n",
       " 'like': 13,\n",
       " 'this': 25,\n",
       " 'product': 21,\n",
       " 'very': 27,\n",
       " 'much': 15,\n",
       " 'is': 10,\n",
       " 'just': 12,\n",
       " 'awesome': 0,\n",
       " 'have': 8,\n",
       " 'recommended': 23,\n",
       " 'to': 26,\n",
       " 'my': 16,\n",
       " 'friend': 6,\n",
       " 'horrible': 9,\n",
       " 'waste': 28,\n",
       " 'of': 18,\n",
       " 'money': 14,\n",
       " 'worth': 29,\n",
       " 'buying': 1,\n",
       " 'perfect': 20,\n",
       " 'fit': 4,\n",
       " 'for': 5,\n",
       " 'requirements': 24,\n",
       " 'packaging': 19,\n",
       " 'good': 7,\n",
       " 'it': 11,\n",
       " 'really': 22,\n",
       " 'expensive': 3}"
      ]
     },
     "execution_count": 6,
     "metadata": {},
     "output_type": "execute_result"
    }
   ],
   "source": [
    "cv_1_gram.vocabulary_"
   ]
  },
  {
   "cell_type": "code",
   "execution_count": 7,
   "metadata": {},
   "outputs": [],
   "source": [
    "# bi-grams"
   ]
  },
  {
   "cell_type": "code",
   "execution_count": 8,
   "metadata": {},
   "outputs": [],
   "source": [
    "cv_bi_gram = CountVectorizer(ngram_range=(1,2))\n",
    "transformed_data_bi_gram = cv_bi_gram.fit_transform(data['Review'])"
   ]
  },
  {
   "cell_type": "code",
   "execution_count": 9,
   "metadata": {},
   "outputs": [
    {
     "data": {
      "text/plain": [
       "(10, 57)"
      ]
     },
     "execution_count": 9,
     "metadata": {},
     "output_type": "execute_result"
    }
   ],
   "source": [
    "transformed_data_bi_gram.shape # This contains 1 grams and also bi grams"
   ]
  },
  {
   "cell_type": "code",
   "execution_count": 10,
   "metadata": {
    "scrolled": true
   },
   "outputs": [
    {
     "data": {
      "text/plain": [
       "{'do': 2,\n",
       " 'not': 29,\n",
       " 'like': 22,\n",
       " 'this': 47,\n",
       " 'product': 38,\n",
       " 'do not': 3,\n",
       " 'not like': 31,\n",
       " 'like this': 23,\n",
       " 'this product': 48,\n",
       " 'very': 51,\n",
       " 'much': 25,\n",
       " 'product very': 41,\n",
       " 'very much': 52,\n",
       " 'is': 14,\n",
       " 'just': 20,\n",
       " 'awesome': 0,\n",
       " 'product is': 39,\n",
       " 'is just': 15,\n",
       " 'just awesome': 21,\n",
       " 'have': 11,\n",
       " 'recommended': 44,\n",
       " 'to': 49,\n",
       " 'my': 26,\n",
       " 'friend': 9,\n",
       " 'have recommended': 12,\n",
       " 'recommended this': 45,\n",
       " 'product to': 40,\n",
       " 'to my': 50,\n",
       " 'my friend': 27,\n",
       " 'horrible': 13,\n",
       " 'waste': 53,\n",
       " 'of': 32,\n",
       " 'money': 24,\n",
       " 'waste of': 54,\n",
       " 'of money': 33,\n",
       " 'worth': 55,\n",
       " 'buying': 1,\n",
       " 'worth buying': 56,\n",
       " 'perfect': 36,\n",
       " 'fit': 5,\n",
       " 'for': 7,\n",
       " 'requirements': 46,\n",
       " 'perfect fit': 37,\n",
       " 'fit for': 6,\n",
       " 'for my': 8,\n",
       " 'my requirements': 28,\n",
       " 'packaging': 34,\n",
       " 'good': 10,\n",
       " 'packaging is': 35,\n",
       " 'is not': 16,\n",
       " 'not good': 30,\n",
       " 'it': 18,\n",
       " 'really': 42,\n",
       " 'expensive': 4,\n",
       " 'it is': 19,\n",
       " 'is really': 17,\n",
       " 'really expensive': 43}"
      ]
     },
     "execution_count": 10,
     "metadata": {},
     "output_type": "execute_result"
    }
   ],
   "source": [
    "cv_bi_gram.vocabulary_"
   ]
  },
  {
   "cell_type": "code",
   "execution_count": 11,
   "metadata": {},
   "outputs": [],
   "source": [
    "#tri grams"
   ]
  },
  {
   "cell_type": "code",
   "execution_count": 12,
   "metadata": {},
   "outputs": [],
   "source": [
    "cv_tri_gram = CountVectorizer(ngram_range=(1,3))\n",
    "transformed_data_tri_gram = cv_tri_gram.fit_transform(data['Review'])"
   ]
  },
  {
   "cell_type": "code",
   "execution_count": 13,
   "metadata": {},
   "outputs": [
    {
     "data": {
      "text/plain": [
       "(10, 78)"
      ]
     },
     "execution_count": 13,
     "metadata": {},
     "output_type": "execute_result"
    }
   ],
   "source": [
    "transformed_data_tri_gram.shape # This contains 1 grams, bi and also tri grams"
   ]
  },
  {
   "cell_type": "code",
   "execution_count": 14,
   "metadata": {
    "scrolled": true
   },
   "outputs": [
    {
     "data": {
      "text/plain": [
       "{'do': 2,\n",
       " 'not': 38,\n",
       " 'like': 30,\n",
       " 'this': 63,\n",
       " 'product': 50,\n",
       " 'do not': 3,\n",
       " 'not like': 40,\n",
       " 'like this': 31,\n",
       " 'this product': 64,\n",
       " 'do not like': 4,\n",
       " 'not like this': 41,\n",
       " 'like this product': 32,\n",
       " 'very': 71,\n",
       " 'much': 34,\n",
       " 'product very': 55,\n",
       " 'very much': 72,\n",
       " 'this product very': 67,\n",
       " 'product very much': 56,\n",
       " 'is': 18,\n",
       " 'just': 28,\n",
       " 'awesome': 0,\n",
       " 'product is': 51,\n",
       " 'is just': 19,\n",
       " 'just awesome': 29,\n",
       " 'this product is': 65,\n",
       " 'product is just': 52,\n",
       " 'is just awesome': 20,\n",
       " 'have': 14,\n",
       " 'recommended': 59,\n",
       " 'to': 68,\n",
       " 'my': 35,\n",
       " 'friend': 12,\n",
       " 'have recommended': 15,\n",
       " 'recommended this': 60,\n",
       " 'product to': 53,\n",
       " 'to my': 69,\n",
       " 'my friend': 36,\n",
       " 'have recommended this': 16,\n",
       " 'recommended this product': 61,\n",
       " 'this product to': 66,\n",
       " 'product to my': 54,\n",
       " 'to my friend': 70,\n",
       " 'horrible': 17,\n",
       " 'waste': 73,\n",
       " 'of': 42,\n",
       " 'money': 33,\n",
       " 'waste of': 74,\n",
       " 'of money': 43,\n",
       " 'waste of money': 75,\n",
       " 'worth': 76,\n",
       " 'buying': 1,\n",
       " 'worth buying': 77,\n",
       " 'perfect': 47,\n",
       " 'fit': 6,\n",
       " 'for': 9,\n",
       " 'requirements': 62,\n",
       " 'perfect fit': 48,\n",
       " 'fit for': 7,\n",
       " 'for my': 10,\n",
       " 'my requirements': 37,\n",
       " 'perfect fit for': 49,\n",
       " 'fit for my': 8,\n",
       " 'for my requirements': 11,\n",
       " 'packaging': 44,\n",
       " 'good': 13,\n",
       " 'packaging is': 45,\n",
       " 'is not': 21,\n",
       " 'not good': 39,\n",
       " 'packaging is not': 46,\n",
       " 'is not good': 22,\n",
       " 'it': 25,\n",
       " 'really': 57,\n",
       " 'expensive': 5,\n",
       " 'it is': 26,\n",
       " 'is really': 23,\n",
       " 'really expensive': 58,\n",
       " 'it is really': 27,\n",
       " 'is really expensive': 24}"
      ]
     },
     "execution_count": 14,
     "metadata": {},
     "output_type": "execute_result"
    }
   ],
   "source": [
    "cv_tri_gram.vocabulary_"
   ]
  },
  {
   "cell_type": "markdown",
   "metadata": {},
   "source": [
    "## Tf-Idf"
   ]
  },
  {
   "cell_type": "code",
   "execution_count": 15,
   "metadata": {},
   "outputs": [],
   "source": [
    "tv_bi_gram = TfidfVectorizer(ngram_range=(1,2))\n",
    "tv_transformed_data_bi_gram = tv_bi_gram.fit_transform(data['Review'])"
   ]
  },
  {
   "cell_type": "code",
   "execution_count": 16,
   "metadata": {},
   "outputs": [
    {
     "data": {
      "text/plain": [
       "(10, 57)"
      ]
     },
     "execution_count": 16,
     "metadata": {},
     "output_type": "execute_result"
    }
   ],
   "source": [
    "tv_transformed_data_bi_gram.shape"
   ]
  },
  {
   "cell_type": "code",
   "execution_count": 17,
   "metadata": {
    "scrolled": true
   },
   "outputs": [
    {
     "data": {
      "text/plain": [
       "{'do': 2,\n",
       " 'not': 29,\n",
       " 'like': 22,\n",
       " 'this': 47,\n",
       " 'product': 38,\n",
       " 'do not': 3,\n",
       " 'not like': 31,\n",
       " 'like this': 23,\n",
       " 'this product': 48,\n",
       " 'very': 51,\n",
       " 'much': 25,\n",
       " 'product very': 41,\n",
       " 'very much': 52,\n",
       " 'is': 14,\n",
       " 'just': 20,\n",
       " 'awesome': 0,\n",
       " 'product is': 39,\n",
       " 'is just': 15,\n",
       " 'just awesome': 21,\n",
       " 'have': 11,\n",
       " 'recommended': 44,\n",
       " 'to': 49,\n",
       " 'my': 26,\n",
       " 'friend': 9,\n",
       " 'have recommended': 12,\n",
       " 'recommended this': 45,\n",
       " 'product to': 40,\n",
       " 'to my': 50,\n",
       " 'my friend': 27,\n",
       " 'horrible': 13,\n",
       " 'waste': 53,\n",
       " 'of': 32,\n",
       " 'money': 24,\n",
       " 'waste of': 54,\n",
       " 'of money': 33,\n",
       " 'worth': 55,\n",
       " 'buying': 1,\n",
       " 'worth buying': 56,\n",
       " 'perfect': 36,\n",
       " 'fit': 5,\n",
       " 'for': 7,\n",
       " 'requirements': 46,\n",
       " 'perfect fit': 37,\n",
       " 'fit for': 6,\n",
       " 'for my': 8,\n",
       " 'my requirements': 28,\n",
       " 'packaging': 34,\n",
       " 'good': 10,\n",
       " 'packaging is': 35,\n",
       " 'is not': 16,\n",
       " 'not good': 30,\n",
       " 'it': 18,\n",
       " 'really': 42,\n",
       " 'expensive': 4,\n",
       " 'it is': 19,\n",
       " 'is really': 17,\n",
       " 'really expensive': 43}"
      ]
     },
     "execution_count": 17,
     "metadata": {},
     "output_type": "execute_result"
    }
   ],
   "source": [
    "tv_bi_gram.vocabulary_"
   ]
  },
  {
   "cell_type": "code",
   "execution_count": 18,
   "metadata": {},
   "outputs": [
    {
     "data": {
      "text/plain": [
       "(10, 57)"
      ]
     },
     "execution_count": 18,
     "metadata": {},
     "output_type": "execute_result"
    }
   ],
   "source": [
    "tv_transformed_data_bi_gram.shape"
   ]
  },
  {
   "cell_type": "code",
   "execution_count": 19,
   "metadata": {},
   "outputs": [
    {
     "data": {
      "text/plain": [
       "(10, 57)"
      ]
     },
     "execution_count": 19,
     "metadata": {},
     "output_type": "execute_result"
    }
   ],
   "source": [
    "transformed_data_bi_gram.shape"
   ]
  },
  {
   "cell_type": "code",
   "execution_count": 20,
   "metadata": {},
   "outputs": [
    {
     "data": {
      "text/plain": [
       "(10, 57)"
      ]
     },
     "execution_count": 20,
     "metadata": {},
     "output_type": "execute_result"
    }
   ],
   "source": [
    "tv_transformed_data_bi_gram.toarray().shape"
   ]
  },
  {
   "cell_type": "code",
   "execution_count": 21,
   "metadata": {
    "scrolled": true
   },
   "outputs": [
    {
     "data": {
      "text/plain": [
       "array([[0.  , 0.  , 0.39, 0.39, 0.  , 0.  , 0.  , 0.  , 0.  , 0.  , 0.  ,\n",
       "        0.  , 0.  , 0.  , 0.  , 0.  , 0.  , 0.  , 0.  , 0.  , 0.  , 0.  ,\n",
       "        0.33, 0.33, 0.  , 0.  , 0.  , 0.  , 0.  , 0.33, 0.  , 0.39, 0.  ,\n",
       "        0.  , 0.  , 0.  , 0.  , 0.  , 0.26, 0.  , 0.  , 0.  , 0.  , 0.  ,\n",
       "        0.  , 0.  , 0.  , 0.26, 0.26, 0.  , 0.  , 0.  , 0.  , 0.  , 0.  ,\n",
       "        0.  , 0.  ],\n",
       "       [0.  , 0.  , 0.  , 0.  , 0.  , 0.  , 0.  , 0.  , 0.  , 0.  , 0.  ,\n",
       "        0.  , 0.  , 0.  , 0.  , 0.  , 0.  , 0.  , 0.  , 0.  , 0.  , 0.  ,\n",
       "        0.33, 0.33, 0.  , 0.38, 0.  , 0.  , 0.  , 0.  , 0.  , 0.  , 0.  ,\n",
       "        0.  , 0.  , 0.  , 0.  , 0.  , 0.25, 0.  , 0.  , 0.38, 0.  , 0.  ,\n",
       "        0.  , 0.  , 0.  , 0.25, 0.25, 0.  , 0.  , 0.38, 0.38, 0.  , 0.  ,\n",
       "        0.  , 0.  ],\n",
       "       [0.38, 0.  , 0.  , 0.  , 0.  , 0.  , 0.  , 0.  , 0.  , 0.  , 0.  ,\n",
       "        0.  , 0.  , 0.  , 0.28, 0.38, 0.  , 0.  , 0.  , 0.  , 0.38, 0.38,\n",
       "        0.  , 0.  , 0.  , 0.  , 0.  , 0.  , 0.  , 0.  , 0.  , 0.  , 0.  ,\n",
       "        0.  , 0.  , 0.  , 0.  , 0.  , 0.25, 0.38, 0.  , 0.  , 0.  , 0.  ,\n",
       "        0.  , 0.  , 0.  , 0.25, 0.25, 0.  , 0.  , 0.  , 0.  , 0.  , 0.  ,\n",
       "        0.  , 0.  ],\n",
       "       [0.  , 0.  , 0.  , 0.  , 0.  , 0.  , 0.  , 0.  , 0.  , 0.3 , 0.  ,\n",
       "        0.3 , 0.3 , 0.  , 0.  , 0.  , 0.  , 0.  , 0.  , 0.  , 0.  , 0.  ,\n",
       "        0.  , 0.  , 0.  , 0.  , 0.26, 0.3 , 0.  , 0.  , 0.  , 0.  , 0.  ,\n",
       "        0.  , 0.  , 0.  , 0.  , 0.  , 0.2 , 0.  , 0.3 , 0.  , 0.  , 0.  ,\n",
       "        0.3 , 0.3 , 0.  , 0.2 , 0.2 , 0.3 , 0.3 , 0.  , 0.  , 0.  , 0.  ,\n",
       "        0.  , 0.  ],\n",
       "       [0.  , 0.  , 0.  , 0.  , 0.  , 0.  , 0.  , 0.  , 0.  , 0.  , 0.  ,\n",
       "        0.  , 0.  , 1.  , 0.  , 0.  , 0.  , 0.  , 0.  , 0.  , 0.  , 0.  ,\n",
       "        0.  , 0.  , 0.  , 0.  , 0.  , 0.  , 0.  , 0.  , 0.  , 0.  , 0.  ,\n",
       "        0.  , 0.  , 0.  , 0.  , 0.  , 0.  , 0.  , 0.  , 0.  , 0.  , 0.  ,\n",
       "        0.  , 0.  , 0.  , 0.  , 0.  , 0.  , 0.  , 0.  , 0.  , 0.  , 0.  ,\n",
       "        0.  , 0.  ],\n",
       "       [0.  , 0.  , 0.  , 0.  , 0.  , 0.  , 0.  , 0.  , 0.  , 0.  , 0.  ,\n",
       "        0.  , 0.  , 0.  , 0.  , 0.  , 0.  , 0.  , 0.  , 0.  , 0.  , 0.  ,\n",
       "        0.  , 0.  , 0.45, 0.  , 0.  , 0.  , 0.  , 0.  , 0.  , 0.  , 0.45,\n",
       "        0.45, 0.  , 0.  , 0.  , 0.  , 0.  , 0.  , 0.  , 0.  , 0.  , 0.  ,\n",
       "        0.  , 0.  , 0.  , 0.  , 0.  , 0.  , 0.  , 0.  , 0.  , 0.45, 0.45,\n",
       "        0.  , 0.  ],\n",
       "       [0.  , 0.58, 0.  , 0.  , 0.  , 0.  , 0.  , 0.  , 0.  , 0.  , 0.  ,\n",
       "        0.  , 0.  , 0.  , 0.  , 0.  , 0.  , 0.  , 0.  , 0.  , 0.  , 0.  ,\n",
       "        0.  , 0.  , 0.  , 0.  , 0.  , 0.  , 0.  , 0.  , 0.  , 0.  , 0.  ,\n",
       "        0.  , 0.  , 0.  , 0.  , 0.  , 0.  , 0.  , 0.  , 0.  , 0.  , 0.  ,\n",
       "        0.  , 0.  , 0.  , 0.  , 0.  , 0.  , 0.  , 0.  , 0.  , 0.  , 0.  ,\n",
       "        0.58, 0.58],\n",
       "       [0.  , 0.  , 0.  , 0.  , 0.  , 0.34, 0.34, 0.34, 0.34, 0.  , 0.  ,\n",
       "        0.  , 0.  , 0.  , 0.  , 0.  , 0.  , 0.  , 0.  , 0.  , 0.  , 0.  ,\n",
       "        0.  , 0.  , 0.  , 0.  , 0.29, 0.  , 0.34, 0.  , 0.  , 0.  , 0.  ,\n",
       "        0.  , 0.  , 0.  , 0.34, 0.34, 0.  , 0.  , 0.  , 0.  , 0.  , 0.  ,\n",
       "        0.  , 0.  , 0.34, 0.  , 0.  , 0.  , 0.  , 0.  , 0.  , 0.  , 0.  ,\n",
       "        0.  , 0.  ],\n",
       "       [0.  , 0.  , 0.  , 0.  , 0.  , 0.  , 0.  , 0.  , 0.  , 0.  , 0.4 ,\n",
       "        0.  , 0.  , 0.  , 0.3 , 0.  , 0.4 , 0.  , 0.  , 0.  , 0.  , 0.  ,\n",
       "        0.  , 0.  , 0.  , 0.  , 0.  , 0.  , 0.  , 0.34, 0.4 , 0.  , 0.  ,\n",
       "        0.  , 0.4 , 0.4 , 0.  , 0.  , 0.  , 0.  , 0.  , 0.  , 0.  , 0.  ,\n",
       "        0.  , 0.  , 0.  , 0.  , 0.  , 0.  , 0.  , 0.  , 0.  , 0.  , 0.  ,\n",
       "        0.  , 0.  ],\n",
       "       [0.  , 0.  , 0.  , 0.  , 0.39, 0.  , 0.  , 0.  , 0.  , 0.  , 0.  ,\n",
       "        0.  , 0.  , 0.  , 0.29, 0.  , 0.  , 0.39, 0.39, 0.39, 0.  , 0.  ,\n",
       "        0.  , 0.  , 0.  , 0.  , 0.  , 0.  , 0.  , 0.  , 0.  , 0.  , 0.  ,\n",
       "        0.  , 0.  , 0.  , 0.  , 0.  , 0.  , 0.  , 0.  , 0.  , 0.39, 0.39,\n",
       "        0.  , 0.  , 0.  , 0.  , 0.  , 0.  , 0.  , 0.  , 0.  , 0.  , 0.  ,\n",
       "        0.  , 0.  ]])"
      ]
     },
     "execution_count": 21,
     "metadata": {},
     "output_type": "execute_result"
    }
   ],
   "source": [
    "np.round(tv_transformed_data_bi_gram.toarray(), 2)"
   ]
  },
  {
   "cell_type": "code",
   "execution_count": 22,
   "metadata": {},
   "outputs": [
    {
     "data": {
      "text/html": [
       "<div>\n",
       "<style scoped>\n",
       "    .dataframe tbody tr th:only-of-type {\n",
       "        vertical-align: middle;\n",
       "    }\n",
       "\n",
       "    .dataframe tbody tr th {\n",
       "        vertical-align: top;\n",
       "    }\n",
       "\n",
       "    .dataframe thead th {\n",
       "        text-align: right;\n",
       "    }\n",
       "</style>\n",
       "<table border=\"1\" class=\"dataframe\">\n",
       "  <thead>\n",
       "    <tr style=\"text-align: right;\">\n",
       "      <th></th>\n",
       "      <th>Review</th>\n",
       "      <th>Rating</th>\n",
       "    </tr>\n",
       "  </thead>\n",
       "  <tbody>\n",
       "    <tr>\n",
       "      <th>0</th>\n",
       "      <td>I do not like this product</td>\n",
       "      <td>1</td>\n",
       "    </tr>\n",
       "  </tbody>\n",
       "</table>\n",
       "</div>"
      ],
      "text/plain": [
       "                       Review  Rating\n",
       "0  I do not like this product       1"
      ]
     },
     "execution_count": 22,
     "metadata": {},
     "output_type": "execute_result"
    }
   ],
   "source": [
    "data.head(1)"
   ]
  },
  {
   "cell_type": "code",
   "execution_count": 23,
   "metadata": {
    "scrolled": true
   },
   "outputs": [
    {
     "data": {
      "text/plain": [
       "array([0, 0, 1, 1, 0, 0, 0, 0, 0, 0, 0, 0, 0, 0, 0, 0, 0, 0, 0, 0, 0, 0,\n",
       "       1, 1, 0, 0, 0, 0, 0, 1, 0, 1, 0, 0, 0, 0, 0, 0, 1, 0, 0, 0, 0, 0,\n",
       "       0, 0, 0, 1, 1, 0, 0, 0, 0, 0, 0, 0, 0])"
      ]
     },
     "execution_count": 23,
     "metadata": {},
     "output_type": "execute_result"
    }
   ],
   "source": [
    "transformed_data_bi_gram.toarray()[0]"
   ]
  },
  {
   "cell_type": "code",
   "execution_count": 24,
   "metadata": {},
   "outputs": [
    {
     "data": {
      "text/plain": [
       "array([0.   , 0.   , 0.393, 0.393, 0.   , 0.   , 0.   , 0.   , 0.   ,\n",
       "       0.   , 0.   , 0.   , 0.   , 0.   , 0.   , 0.   , 0.   , 0.   ,\n",
       "       0.   , 0.   , 0.   , 0.   , 0.334, 0.334, 0.   , 0.   , 0.   ,\n",
       "       0.   , 0.   , 0.334, 0.   , 0.393, 0.   , 0.   , 0.   , 0.   ,\n",
       "       0.   , 0.   , 0.26 , 0.   , 0.   , 0.   , 0.   , 0.   , 0.   ,\n",
       "       0.   , 0.   , 0.26 , 0.26 , 0.   , 0.   , 0.   , 0.   , 0.   ,\n",
       "       0.   , 0.   , 0.   ])"
      ]
     },
     "execution_count": 24,
     "metadata": {},
     "output_type": "execute_result"
    }
   ],
   "source": [
    "np.round(tv_transformed_data_bi_gram.toarray()[0], 3)"
   ]
  },
  {
   "cell_type": "code",
   "execution_count": 25,
   "metadata": {
    "scrolled": true
   },
   "outputs": [
    {
     "data": {
      "text/plain": [
       "['awesome',\n",
       " 'buying',\n",
       " 'do',\n",
       " 'do not',\n",
       " 'expensive',\n",
       " 'fit',\n",
       " 'fit for',\n",
       " 'for',\n",
       " 'for my',\n",
       " 'friend',\n",
       " 'good',\n",
       " 'have',\n",
       " 'have recommended',\n",
       " 'horrible',\n",
       " 'is',\n",
       " 'is just',\n",
       " 'is not',\n",
       " 'is really',\n",
       " 'it',\n",
       " 'it is',\n",
       " 'just',\n",
       " 'just awesome',\n",
       " 'like',\n",
       " 'like this',\n",
       " 'money',\n",
       " 'much',\n",
       " 'my',\n",
       " 'my friend',\n",
       " 'my requirements',\n",
       " 'not',\n",
       " 'not good',\n",
       " 'not like',\n",
       " 'of',\n",
       " 'of money',\n",
       " 'packaging',\n",
       " 'packaging is',\n",
       " 'perfect',\n",
       " 'perfect fit',\n",
       " 'product',\n",
       " 'product is',\n",
       " 'product to',\n",
       " 'product very',\n",
       " 'really',\n",
       " 'really expensive',\n",
       " 'recommended',\n",
       " 'recommended this',\n",
       " 'requirements',\n",
       " 'this',\n",
       " 'this product',\n",
       " 'to',\n",
       " 'to my',\n",
       " 'very',\n",
       " 'very much',\n",
       " 'waste',\n",
       " 'waste of',\n",
       " 'worth',\n",
       " 'worth buying']"
      ]
     },
     "execution_count": 25,
     "metadata": {},
     "output_type": "execute_result"
    }
   ],
   "source": [
    "tv_bi_gram.get_feature_names()"
   ]
  },
  {
   "cell_type": "code",
   "execution_count": 26,
   "metadata": {},
   "outputs": [
    {
     "data": {
      "text/html": [
       "<div>\n",
       "<style scoped>\n",
       "    .dataframe tbody tr th:only-of-type {\n",
       "        vertical-align: middle;\n",
       "    }\n",
       "\n",
       "    .dataframe tbody tr th {\n",
       "        vertical-align: top;\n",
       "    }\n",
       "\n",
       "    .dataframe thead th {\n",
       "        text-align: right;\n",
       "    }\n",
       "</style>\n",
       "<table border=\"1\" class=\"dataframe\">\n",
       "  <thead>\n",
       "    <tr style=\"text-align: right;\">\n",
       "      <th></th>\n",
       "      <th>feature</th>\n",
       "      <th>tfidf</th>\n",
       "    </tr>\n",
       "  </thead>\n",
       "  <tbody>\n",
       "    <tr>\n",
       "      <th>0</th>\n",
       "      <td>do</td>\n",
       "      <td>0.392848</td>\n",
       "    </tr>\n",
       "    <tr>\n",
       "      <th>1</th>\n",
       "      <td>do not</td>\n",
       "      <td>0.392848</td>\n",
       "    </tr>\n",
       "    <tr>\n",
       "      <th>2</th>\n",
       "      <td>not like</td>\n",
       "      <td>0.392848</td>\n",
       "    </tr>\n",
       "    <tr>\n",
       "      <th>3</th>\n",
       "      <td>like this</td>\n",
       "      <td>0.333957</td>\n",
       "    </tr>\n",
       "    <tr>\n",
       "      <th>4</th>\n",
       "      <td>like</td>\n",
       "      <td>0.333957</td>\n",
       "    </tr>\n",
       "    <tr>\n",
       "      <th>5</th>\n",
       "      <td>not</td>\n",
       "      <td>0.333957</td>\n",
       "    </tr>\n",
       "    <tr>\n",
       "      <th>6</th>\n",
       "      <td>this product</td>\n",
       "      <td>0.259762</td>\n",
       "    </tr>\n",
       "    <tr>\n",
       "      <th>7</th>\n",
       "      <td>product</td>\n",
       "      <td>0.259762</td>\n",
       "    </tr>\n",
       "    <tr>\n",
       "      <th>8</th>\n",
       "      <td>this</td>\n",
       "      <td>0.259762</td>\n",
       "    </tr>\n",
       "    <tr>\n",
       "      <th>9</th>\n",
       "      <td>it</td>\n",
       "      <td>0.000000</td>\n",
       "    </tr>\n",
       "  </tbody>\n",
       "</table>\n",
       "</div>"
      ],
      "text/plain": [
       "        feature     tfidf\n",
       "0            do  0.392848\n",
       "1        do not  0.392848\n",
       "2      not like  0.392848\n",
       "3     like this  0.333957\n",
       "4          like  0.333957\n",
       "5           not  0.333957\n",
       "6  this product  0.259762\n",
       "7       product  0.259762\n",
       "8          this  0.259762\n",
       "9            it  0.000000"
      ]
     },
     "execution_count": 26,
     "metadata": {},
     "output_type": "execute_result"
    }
   ],
   "source": [
    "def top_tfidf_feats(row, features, top_n = 25):\n",
    "    topn_ids = np.argsort(row)[::-1][:top_n]\n",
    "    top_feats = [(features[i], row[i]) for i in topn_ids]\n",
    "    df = pd.DataFrame(top_feats)\n",
    "    df.columns = ['feature', 'tfidf']\n",
    "\n",
    "    return df\n",
    "\n",
    "top_tfidf_feats(tv_transformed_data_bi_gram.toarray()[0], tv_bi_gram.get_feature_names(), 10)"
   ]
  },
  {
   "cell_type": "code",
   "execution_count": 27,
   "metadata": {},
   "outputs": [
    {
     "data": {
      "text/html": [
       "<div>\n",
       "<style scoped>\n",
       "    .dataframe tbody tr th:only-of-type {\n",
       "        vertical-align: middle;\n",
       "    }\n",
       "\n",
       "    .dataframe tbody tr th {\n",
       "        vertical-align: top;\n",
       "    }\n",
       "\n",
       "    .dataframe thead th {\n",
       "        text-align: right;\n",
       "    }\n",
       "</style>\n",
       "<table border=\"1\" class=\"dataframe\">\n",
       "  <thead>\n",
       "    <tr style=\"text-align: right;\">\n",
       "      <th></th>\n",
       "      <th>feature</th>\n",
       "      <th>tfidf</th>\n",
       "    </tr>\n",
       "  </thead>\n",
       "  <tbody>\n",
       "    <tr>\n",
       "      <th>0</th>\n",
       "      <td>this product</td>\n",
       "      <td>1</td>\n",
       "    </tr>\n",
       "    <tr>\n",
       "      <th>1</th>\n",
       "      <td>like this</td>\n",
       "      <td>1</td>\n",
       "    </tr>\n",
       "    <tr>\n",
       "      <th>2</th>\n",
       "      <td>do</td>\n",
       "      <td>1</td>\n",
       "    </tr>\n",
       "    <tr>\n",
       "      <th>3</th>\n",
       "      <td>do not</td>\n",
       "      <td>1</td>\n",
       "    </tr>\n",
       "    <tr>\n",
       "      <th>4</th>\n",
       "      <td>like</td>\n",
       "      <td>1</td>\n",
       "    </tr>\n",
       "    <tr>\n",
       "      <th>5</th>\n",
       "      <td>not</td>\n",
       "      <td>1</td>\n",
       "    </tr>\n",
       "    <tr>\n",
       "      <th>6</th>\n",
       "      <td>product</td>\n",
       "      <td>1</td>\n",
       "    </tr>\n",
       "    <tr>\n",
       "      <th>7</th>\n",
       "      <td>this</td>\n",
       "      <td>1</td>\n",
       "    </tr>\n",
       "    <tr>\n",
       "      <th>8</th>\n",
       "      <td>not like</td>\n",
       "      <td>1</td>\n",
       "    </tr>\n",
       "    <tr>\n",
       "      <th>9</th>\n",
       "      <td>it</td>\n",
       "      <td>0</td>\n",
       "    </tr>\n",
       "  </tbody>\n",
       "</table>\n",
       "</div>"
      ],
      "text/plain": [
       "        feature  tfidf\n",
       "0  this product      1\n",
       "1     like this      1\n",
       "2            do      1\n",
       "3        do not      1\n",
       "4          like      1\n",
       "5           not      1\n",
       "6       product      1\n",
       "7          this      1\n",
       "8      not like      1\n",
       "9            it      0"
      ]
     },
     "execution_count": 27,
     "metadata": {},
     "output_type": "execute_result"
    }
   ],
   "source": [
    "top_tfidf_feats(transformed_data_bi_gram.toarray()[0], cv_bi_gram.get_feature_names(), 10)"
   ]
  }
 ],
 "metadata": {
  "kernelspec": {
   "display_name": "Python 3",
   "language": "python",
   "name": "python3"
  },
  "language_info": {
   "codemirror_mode": {
    "name": "ipython",
    "version": 3
   },
   "file_extension": ".py",
   "mimetype": "text/x-python",
   "name": "python",
   "nbconvert_exporter": "python",
   "pygments_lexer": "ipython3",
   "version": "3.6.12"
  }
 },
 "nbformat": 4,
 "nbformat_minor": 4
}

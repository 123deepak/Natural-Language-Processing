{
 "cells": [
  {
   "cell_type": "code",
   "execution_count": 619,
   "metadata": {
    "collapsed": true
   },
   "outputs": [],
   "source": [
    "import pandas as pd\n",
    "import numpy as np\n",
    "from sklearn.model_selection import train_test_split\n",
    "from sklearn.feature_extraction.text import TfidfVectorizer\n",
    "from sklearn.naive_bayes import GaussianNB\n",
    "from nltk.corpus import stopwords"
   ]
  },
  {
   "cell_type": "code",
   "execution_count": 620,
   "metadata": {},
   "outputs": [],
   "source": [
    "data = pd.read_csv('C:\\\\Users\\\\Deepak\\\\Downloads\\\\Weather.csv')"
   ]
  },
  {
   "cell_type": "code",
   "execution_count": 621,
   "metadata": {},
   "outputs": [
    {
     "data": {
      "text/html": [
       "<div>\n",
       "<style scoped>\n",
       "    .dataframe tbody tr th:only-of-type {\n",
       "        vertical-align: middle;\n",
       "    }\n",
       "\n",
       "    .dataframe tbody tr th {\n",
       "        vertical-align: top;\n",
       "    }\n",
       "\n",
       "    .dataframe thead th {\n",
       "        text-align: right;\n",
       "    }\n",
       "</style>\n",
       "<table border=\"1\" class=\"dataframe\">\n",
       "  <thead>\n",
       "    <tr style=\"text-align: right;\">\n",
       "      <th></th>\n",
       "      <th>Weather</th>\n",
       "      <th>Season</th>\n",
       "    </tr>\n",
       "  </thead>\n",
       "  <tbody>\n",
       "    <tr>\n",
       "      <th>0</th>\n",
       "      <td>it is rainy it is</td>\n",
       "      <td>Rainy Season</td>\n",
       "    </tr>\n",
       "    <tr>\n",
       "      <th>1</th>\n",
       "      <td>rainy it is today</td>\n",
       "      <td>Rainy Season</td>\n",
       "    </tr>\n",
       "    <tr>\n",
       "      <th>2</th>\n",
       "      <td>is it rainy, It</td>\n",
       "      <td>Rainy Season</td>\n",
       "    </tr>\n",
       "    <tr>\n",
       "      <th>3</th>\n",
       "      <td>It is a it rainy</td>\n",
       "      <td>Rainy Season</td>\n",
       "    </tr>\n",
       "    <tr>\n",
       "      <th>4</th>\n",
       "      <td>it is hot and warm today</td>\n",
       "      <td>Hot Weather</td>\n",
       "    </tr>\n",
       "  </tbody>\n",
       "</table>\n",
       "</div>"
      ],
      "text/plain": [
       "                    Weather        Season\n",
       "0         it is rainy it is  Rainy Season\n",
       "1         rainy it is today  Rainy Season\n",
       "2           is it rainy, It  Rainy Season\n",
       "3          It is a it rainy  Rainy Season\n",
       "4  it is hot and warm today   Hot Weather"
      ]
     },
     "execution_count": 621,
     "metadata": {},
     "output_type": "execute_result"
    }
   ],
   "source": [
    "data.head()"
   ]
  },
  {
   "cell_type": "code",
   "execution_count": 622,
   "metadata": {},
   "outputs": [],
   "source": [
    "X = data['Weather']\n",
    "y = data['Season']"
   ]
  },
  {
   "cell_type": "code",
   "execution_count": 623,
   "metadata": {},
   "outputs": [
    {
     "data": {
      "text/plain": [
       "0           it is rainy it is\n",
       "1           rainy it is today\n",
       "2             is it rainy, It\n",
       "3            It is a it rainy\n",
       "4    it is hot and warm today\n",
       "Name: Weather, dtype: object"
      ]
     },
     "execution_count": 623,
     "metadata": {},
     "output_type": "execute_result"
    }
   ],
   "source": [
    "X.head()"
   ]
  },
  {
   "cell_type": "code",
   "execution_count": 624,
   "metadata": {},
   "outputs": [
    {
     "data": {
      "text/plain": [
       "0    Rainy Season\n",
       "1    Rainy Season\n",
       "2    Rainy Season\n",
       "3    Rainy Season\n",
       "4     Hot Weather\n",
       "Name: Season, dtype: object"
      ]
     },
     "execution_count": 624,
     "metadata": {},
     "output_type": "execute_result"
    }
   ],
   "source": [
    "y.head()"
   ]
  },
  {
   "cell_type": "code",
   "execution_count": 625,
   "metadata": {
    "collapsed": true
   },
   "outputs": [],
   "source": [
    "tfidf_vec = TfidfVectorizer()\n",
    "test_tfidf = tfidf_vec.fit_transform(X) "
   ]
  },
  {
   "cell_type": "code",
   "execution_count": 626,
   "metadata": {
    "collapsed": true
   },
   "outputs": [],
   "source": [
    "train_X, test_X, train_y, test_y = train_test_split(test_tfidf.toarray(), y)"
   ]
  },
  {
   "cell_type": "code",
   "execution_count": 627,
   "metadata": {},
   "outputs": [
    {
     "data": {
      "text/plain": [
       "array([[0.        , 0.        , 0.        , 0.        , 0.64571372,\n",
       "        0.64571372, 0.40756297, 0.        , 0.        , 0.        ,\n",
       "        0.        ],\n",
       "       [0.        , 0.        , 0.        , 0.        , 0.34626958,\n",
       "        0.34626958, 0.43711835, 0.        , 0.75440195, 0.        ,\n",
       "        0.        ],\n",
       "       [0.        , 0.        , 0.        , 0.        , 0.38943941,\n",
       "        0.77887883, 0.4916144 , 0.        , 0.        , 0.        ,\n",
       "        0.        ],\n",
       "       [0.        , 0.        , 0.        , 0.        , 0.38943941,\n",
       "        0.77887883, 0.4916144 , 0.        , 0.        , 0.        ,\n",
       "        0.        ],\n",
       "       [0.5428401 , 0.        , 0.        , 0.41181851, 0.1890242 ,\n",
       "        0.1890242 , 0.        , 0.        , 0.41181851, 0.5428401 ,\n",
       "        0.        ],\n",
       "       [0.        , 0.        , 0.83457196, 0.        , 0.29060914,\n",
       "        0.29060914, 0.36685459, 0.        , 0.        , 0.        ,\n",
       "        0.        ],\n",
       "       [0.        , 0.83457196, 0.        , 0.        , 0.29060914,\n",
       "        0.29060914, 0.36685459, 0.        , 0.        , 0.        ,\n",
       "        0.        ],\n",
       "       [0.        , 0.        , 0.        , 0.83877985, 0.38499893,\n",
       "        0.38499893, 0.        , 0.        , 0.        , 0.        ,\n",
       "        0.        ],\n",
       "       [0.        , 0.        , 0.        , 0.        , 0.52751806,\n",
       "        0.52751806, 0.66591995, 0.        , 0.        , 0.        ,\n",
       "        0.        ],\n",
       "       [0.        , 0.        , 0.        , 0.        , 0.557821  ,\n",
       "        0.37188066, 0.23472443, 0.53398385, 0.        , 0.        ,\n",
       "        0.45859153],\n",
       "       [0.        , 0.        , 0.        , 0.64264382, 0.29497274,\n",
       "        0.29497274, 0.        , 0.        , 0.64264382, 0.        ,\n",
       "        0.        ],\n",
       "       [0.        , 0.        , 0.        , 0.        , 0.32147225,\n",
       "        0.32147225, 0.40581509, 0.        , 0.        , 0.        ,\n",
       "        0.79285894]])"
      ]
     },
     "execution_count": 627,
     "metadata": {},
     "output_type": "execute_result"
    }
   ],
   "source": [
    "test_tfidf.toarray()"
   ]
  },
  {
   "cell_type": "code",
   "execution_count": 628,
   "metadata": {},
   "outputs": [
    {
     "data": {
      "text/plain": [
       "GaussianNB(priors=None)"
      ]
     },
     "execution_count": 628,
     "metadata": {},
     "output_type": "execute_result"
    }
   ],
   "source": [
    "nb = GaussianNB()\n",
    "nb.fit(train_X, train_y)"
   ]
  },
  {
   "cell_type": "code",
   "execution_count": 629,
   "metadata": {},
   "outputs": [
    {
     "data": {
      "text/plain": [
       "{'and': 0,\n",
       " 'heavily': 1,\n",
       " 'hmm': 2,\n",
       " 'hot': 3,\n",
       " 'is': 4,\n",
       " 'it': 5,\n",
       " 'rainy': 6,\n",
       " 'really': 7,\n",
       " 'today': 8,\n",
       " 'warm': 9,\n",
       " 'yes': 10}"
      ]
     },
     "execution_count": 629,
     "metadata": {},
     "output_type": "execute_result"
    }
   ],
   "source": [
    "tfidf_vec.vocabulary_"
   ]
  },
  {
   "cell_type": "code",
   "execution_count": 630,
   "metadata": {},
   "outputs": [
    {
     "name": "stdout",
     "output_type": "stream",
     "text": [
      "[0.64571372 0.64571372 0.40756297]\n",
      "[0.34626958 0.34626958 0.43711835 0.75440195]\n",
      "[0.77887883 0.38943941 0.4916144 ]\n",
      "[0.77887883 0.38943941 0.4916144 ]\n",
      "[0.1890242  0.1890242  0.41181851 0.41181851 0.5428401  0.5428401 ]\n",
      "[0.29060914 0.29060914 0.36685459 0.83457196]\n",
      "[0.29060914 0.29060914 0.36685459 0.83457196]\n",
      "[0.38499893 0.38499893 0.83877985]\n",
      "[0.52751806 0.52751806 0.66591995]\n",
      "[0.37188066 0.557821   0.23472443 0.45859153 0.53398385]\n",
      "[0.29497274 0.29497274 0.64264382 0.64264382]\n",
      "[0.32147225 0.32147225 0.40581509 0.79285894]\n"
     ]
    }
   ],
   "source": [
    "for a in range(data.shape[0]):\n",
    "    print(test_tfidf[a].data)"
   ]
  },
  {
   "cell_type": "code",
   "execution_count": 631,
   "metadata": {},
   "outputs": [
    {
     "name": "stdout",
     "output_type": "stream",
     "text": [
      "0.6666666666666666\n"
     ]
    }
   ],
   "source": [
    "print(nb.score(test_X, test_y))"
   ]
  },
  {
   "cell_type": "code",
   "execution_count": 632,
   "metadata": {},
   "outputs": [
    {
     "data": {
      "text/plain": [
       "array(['Rainy Season', 'Rainy Season', 'Hot Weather'], dtype='<U12')"
      ]
     },
     "execution_count": 632,
     "metadata": {},
     "output_type": "execute_result"
    }
   ],
   "source": [
    "nb.predict(test_X) # This is the predicted one"
   ]
  },
  {
   "cell_type": "code",
   "execution_count": 633,
   "metadata": {},
   "outputs": [
    {
     "data": {
      "text/plain": [
       "array(['Rainy Season', 'Rainy Season', 'Rainy Season'], dtype=object)"
      ]
     },
     "execution_count": 633,
     "metadata": {},
     "output_type": "execute_result"
    }
   ],
   "source": [
    "np.array(test_y)  # This should be the output"
   ]
  },
  {
   "cell_type": "markdown",
   "metadata": {},
   "source": [
    "### Stop Words Removal to get effectiveness in the score"
   ]
  },
  {
   "cell_type": "code",
   "execution_count": 634,
   "metadata": {},
   "outputs": [],
   "source": [
    "stop = stopwords.words('English')\n",
    "stop.append('today') # Today is also a junk word in our case"
   ]
  },
  {
   "cell_type": "code",
   "execution_count": 635,
   "metadata": {},
   "outputs": [],
   "source": [
    "# data['Weather'] = data['Weather'].str.lower().str.split()\n",
    "# data['Weather'] = data['Weather'].apply(lambda x: [item for item in x if item not in stop])\n",
    "\n",
    "# This is also a way of removing the stop words, but the problem is that after removal, the values will remains as individual\n",
    "# tokens in the column, but we need string to create tf-idf vector"
   ]
  },
  {
   "cell_type": "code",
   "execution_count": 636,
   "metadata": {},
   "outputs": [],
   "source": [
    "# Another way is to use Regex\n",
    "\n",
    "pat = r'\\b(?:{})\\b'.format('|'.join(stop))\n",
    "data['Weather_Transformed'] = data['Weather'].str.replace(pat, '')\n",
    "data['Weather_Transformed'] = data['Weather_Transformed'].str.replace(r'\\s+', ' ')"
   ]
  },
  {
   "cell_type": "code",
   "execution_count": 637,
   "metadata": {},
   "outputs": [],
   "source": [
    "X = data['Weather_Transformed']\n",
    "y = data['Season']"
   ]
  },
  {
   "cell_type": "code",
   "execution_count": 638,
   "metadata": {},
   "outputs": [
    {
     "data": {
      "text/html": [
       "<div>\n",
       "<style scoped>\n",
       "    .dataframe tbody tr th:only-of-type {\n",
       "        vertical-align: middle;\n",
       "    }\n",
       "\n",
       "    .dataframe tbody tr th {\n",
       "        vertical-align: top;\n",
       "    }\n",
       "\n",
       "    .dataframe thead th {\n",
       "        text-align: right;\n",
       "    }\n",
       "</style>\n",
       "<table border=\"1\" class=\"dataframe\">\n",
       "  <thead>\n",
       "    <tr style=\"text-align: right;\">\n",
       "      <th></th>\n",
       "      <th>Weather_Transformed</th>\n",
       "      <th>Season</th>\n",
       "    </tr>\n",
       "  </thead>\n",
       "  <tbody>\n",
       "    <tr>\n",
       "      <th>0</th>\n",
       "      <td>rainy</td>\n",
       "      <td>Rainy Season</td>\n",
       "    </tr>\n",
       "    <tr>\n",
       "      <th>1</th>\n",
       "      <td>rainy</td>\n",
       "      <td>Rainy Season</td>\n",
       "    </tr>\n",
       "    <tr>\n",
       "      <th>2</th>\n",
       "      <td>rainy, It</td>\n",
       "      <td>Rainy Season</td>\n",
       "    </tr>\n",
       "    <tr>\n",
       "      <th>3</th>\n",
       "      <td>It rainy</td>\n",
       "      <td>Rainy Season</td>\n",
       "    </tr>\n",
       "    <tr>\n",
       "      <th>4</th>\n",
       "      <td>hot warm</td>\n",
       "      <td>Hot Weather</td>\n",
       "    </tr>\n",
       "  </tbody>\n",
       "</table>\n",
       "</div>"
      ],
      "text/plain": [
       "  Weather_Transformed        Season\n",
       "0              rainy   Rainy Season\n",
       "1              rainy   Rainy Season\n",
       "2           rainy, It  Rainy Season\n",
       "3            It rainy  Rainy Season\n",
       "4           hot warm    Hot Weather"
      ]
     },
     "execution_count": 638,
     "metadata": {},
     "output_type": "execute_result"
    }
   ],
   "source": [
    "data[['Weather_Transformed', 'Season']].head()"
   ]
  },
  {
   "cell_type": "code",
   "execution_count": 639,
   "metadata": {},
   "outputs": [],
   "source": [
    "tfidf_vec = TfidfVectorizer()\n",
    "test_tfidf = tfidf_vec.fit_transform(X) "
   ]
  },
  {
   "cell_type": "code",
   "execution_count": 640,
   "metadata": {},
   "outputs": [],
   "source": [
    "train_X, test_X, train_y, test_y = train_test_split(test_tfidf.toarray(), y)"
   ]
  },
  {
   "cell_type": "code",
   "execution_count": 641,
   "metadata": {},
   "outputs": [
    {
     "data": {
      "text/plain": [
       "GaussianNB(priors=None)"
      ]
     },
     "execution_count": 641,
     "metadata": {},
     "output_type": "execute_result"
    }
   ],
   "source": [
    "nb = GaussianNB()\n",
    "nb.fit(train_X, train_y)"
   ]
  },
  {
   "cell_type": "code",
   "execution_count": 642,
   "metadata": {},
   "outputs": [
    {
     "name": "stdout",
     "output_type": "stream",
     "text": [
      "1.0\n"
     ]
    }
   ],
   "source": [
    "print(nb.score(test_X, test_y))"
   ]
  },
  {
   "cell_type": "code",
   "execution_count": 643,
   "metadata": {},
   "outputs": [
    {
     "data": {
      "text/plain": [
       "array(['Rainy Season', 'Rainy Season', 'Hot Weather'], dtype='<U12')"
      ]
     },
     "execution_count": 643,
     "metadata": {},
     "output_type": "execute_result"
    }
   ],
   "source": [
    "nb.predict(test_X) # This is the predicted one"
   ]
  },
  {
   "cell_type": "code",
   "execution_count": 644,
   "metadata": {},
   "outputs": [
    {
     "data": {
      "text/plain": [
       "array(['Rainy Season', 'Rainy Season', 'Hot Weather'], dtype=object)"
      ]
     },
     "execution_count": 644,
     "metadata": {},
     "output_type": "execute_result"
    }
   ],
   "source": [
    "np.array(test_y)  # This should be the output"
   ]
  },
  {
   "cell_type": "raw",
   "metadata": {},
   "source": [
    "Removal of stop word is an important practice before applying Naive Bayes to do the Text classification"
   ]
  }
 ],
 "metadata": {
  "kernelspec": {
   "display_name": "Python 3",
   "language": "python",
   "name": "python3"
  },
  "language_info": {
   "codemirror_mode": {
    "name": "ipython",
    "version": 3
   },
   "file_extension": ".py",
   "mimetype": "text/x-python",
   "name": "python",
   "nbconvert_exporter": "python",
   "pygments_lexer": "ipython3",
   "version": "3.6.3"
  }
 },
 "nbformat": 4,
 "nbformat_minor": 2
}
